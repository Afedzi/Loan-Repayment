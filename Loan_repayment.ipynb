{
 "cells": [
  {
   "cell_type": "markdown",
   "id": "4588bf8f",
   "metadata": {},
   "source": [
    "### Prediction of Loan Repayment"
   ]
  },
  {
   "cell_type": "markdown",
   "id": "7137f50c",
   "metadata": {},
   "source": [
    "### Goal\n",
    "\n",
    "Given historical data on loans given out with information on whether or not the borrower defaulted (charge-off), build a model that can predict wether or not a borrower will pay back their loan, and  find the most important features used to build the model. This way in the future when we get a new potential customer we can assess whether or not they are likely to pay back the loan, and also find which features to consider if they are to grant loan to a potential client. \n",
    "\n"
   ]
  },
  {
   "cell_type": "markdown",
   "id": "3f4f15f8",
   "metadata": {},
   "source": [
    "### Data Overview\n",
    "\n",
    "Here is the information on this data set from kaggle:\n",
    "\n",
    "<table border=\"1\" class=\"dataframe\">\n",
    "  <thead>\n",
    "    <tr style=\"text-align: right;\">\n",
    "      <th></th>\n",
    "      <th>LoanStatNew</th>\n",
    "      <th>Description</th>\n",
    "    </tr>\n",
    "  </thead>\n",
    "  <tbody>\n",
    "    <tr>\n",
    "      <th>0</th>\n",
    "      <td>loan_amnt</td>\n",
    "      <td>The listed amount of the loan applied for by the borrower. If at some point in time, the credit department reduces the loan amount, then it will be reflected in this value.</td>\n",
    "    </tr>\n",
    "    <tr>\n",
    "      <th>1</th>\n",
    "      <td>term</td>\n",
    "      <td>The number of payments on the loan. Values are in months and can be either 36 or 60.</td>\n",
    "    </tr>\n",
    "    <tr>\n",
    "      <th>2</th>\n",
    "      <td>int_rate</td>\n",
    "      <td>Interest Rate on the loan</td>\n",
    "    </tr>\n",
    "    <tr>\n",
    "      <th>3</th>\n",
    "      <td>installment</td>\n",
    "      <td>The monthly payment owed by the borrower if the loan originates.</td>\n",
    "    </tr>\n",
    "    <tr>\n",
    "      <th>4</th>\n",
    "      <td>grade</td>\n",
    "      <td>LC assigned loan grade</td>\n",
    "    </tr>\n",
    "    <tr>\n",
    "      <th>5</th>\n",
    "      <td>sub_grade</td>\n",
    "      <td>LC assigned loan subgrade</td>\n",
    "    </tr>\n",
    "    <tr>\n",
    "      <th>6</th>\n",
    "      <td>emp_title</td>\n",
    "      <td>The job title supplied by the Borrower when applying for the loan.*</td>\n",
    "    </tr>\n",
    "    <tr>\n",
    "      <th>7</th>\n",
    "      <td>emp_length</td>\n",
    "      <td>Employment length in years. Possible values are between 0 and 10 where 0 means less than one year and 10 means ten or more years.</td>\n",
    "    </tr>\n",
    "    <tr>\n",
    "      <th>8</th>\n",
    "      <td>home_ownership</td>\n",
    "      <td>The home ownership status provided by the borrower during registration or obtained from the credit report. Our values are: RENT, OWN, MORTGAGE, OTHER</td>\n",
    "    </tr>\n",
    "    <tr>\n",
    "      <th>9</th>\n",
    "      <td>annual_inc</td>\n",
    "      <td>The self-reported annual income provided by the borrower during registration.</td>\n",
    "    </tr>\n",
    "    <tr>\n",
    "      <th>10</th>\n",
    "      <td>verification_status</td>\n",
    "      <td>Indicates if income was verified by LC, not verified, or if the income source was verified</td>\n",
    "    </tr>\n",
    "    <tr>\n",
    "      <th>11</th>\n",
    "      <td>issue_d</td>\n",
    "      <td>The month which the loan was funded</td>\n",
    "    </tr>\n",
    "    <tr>\n",
    "      <th>12</th>\n",
    "      <td>loan_status</td>\n",
    "      <td>Current status of the loan</td>\n",
    "    </tr>\n",
    "    <tr>\n",
    "      <th>13</th>\n",
    "      <td>purpose</td>\n",
    "      <td>A category provided by the borrower for the loan request.</td>\n",
    "    </tr>\n",
    "    <tr>\n",
    "      <th>14</th>\n",
    "      <td>title</td>\n",
    "      <td>The loan title provided by the borrower</td>\n",
    "    </tr>\n",
    "    <tr>\n",
    "      <th>15</th>\n",
    "      <td>zip_code</td>\n",
    "      <td>The first 3 numbers of the zip code provided by the borrower in the loan application.</td>\n",
    "    </tr>\n",
    "    <tr>\n",
    "      <th>16</th>\n",
    "      <td>addr_state</td>\n",
    "      <td>The state provided by the borrower in the loan application</td>\n",
    "    </tr>\n",
    "    <tr>\n",
    "      <th>17</th>\n",
    "      <td>dti</td>\n",
    "      <td>A ratio calculated using the borrower’s total monthly debt payments on the total debt obligations, excluding mortgage and the requested LC loan, divided by the borrower’s self-reported monthly income.</td>\n",
    "    </tr>\n",
    "    <tr>\n",
    "      <th>18</th>\n",
    "      <td>earliest_cr_line</td>\n",
    "      <td>The month the borrower's earliest reported credit line was opened</td>\n",
    "    </tr>\n",
    "    <tr>\n",
    "      <th>19</th>\n",
    "      <td>open_acc</td>\n",
    "      <td>The number of open credit lines in the borrower's credit file.</td>\n",
    "    </tr>\n",
    "    <tr>\n",
    "      <th>20</th>\n",
    "      <td>pub_rec</td>\n",
    "      <td>Number of derogatory public records</td>\n",
    "    </tr>\n",
    "    <tr>\n",
    "      <th>21</th>\n",
    "      <td>revol_bal</td>\n",
    "      <td>Total credit revolving balance</td>\n",
    "    </tr>\n",
    "    <tr>\n",
    "      <th>22</th>\n",
    "      <td>revol_util</td>\n",
    "      <td>Revolving line utilization rate, or the amount of credit the borrower is using relative to all available revolving credit.</td>\n",
    "    </tr>\n",
    "    <tr>\n",
    "      <th>23</th>\n",
    "      <td>total_acc</td>\n",
    "      <td>The total number of credit lines currently in the borrower's credit file</td>\n",
    "    </tr>\n",
    "    <tr>\n",
    "      <th>24</th>\n",
    "      <td>initial_list_status</td>\n",
    "      <td>The initial listing status of the loan. Possible values are – W, F</td>\n",
    "    </tr>\n",
    "    <tr>\n",
    "      <th>25</th>\n",
    "      <td>application_type</td>\n",
    "      <td>Indicates whether the loan is an individual application or a joint application with two co-borrowers</td>\n",
    "    </tr>\n",
    "    <tr>\n",
    "      <th>26</th>\n",
    "      <td>mort_acc</td>\n",
    "      <td>Number of mortgage accounts.</td>\n",
    "    </tr>\n",
    "    <tr>\n",
    "      <th>27</th>\n",
    "      <td>pub_rec_bankruptcies</td>\n",
    "      <td>Number of public record bankruptcies</td>\n",
    "    </tr>\n",
    "  </tbody>\n",
    "</table>\n",
    "\n",
    "---\n",
    "---\n",
    "-"
   ]
  },
  {
   "cell_type": "markdown",
   "id": "ae6624fd",
   "metadata": {},
   "source": [
    "### Outline of tasks\n",
    "[Import The Libraries and Data For The Tasks](#Import-the-Libraries-for-the-tasks)\n",
    "\n",
    "[Explore The Overview of The Data](#Explore-the-overview-of-the-data)\n",
    "\n",
    "[Exploratory Data Analysis and Feature Selection of Numeric Data Types](#Exploratory-Data-Analysis-and-feature-selection-of-numeric-data-types)\n",
    "\n",
    "[Exploratory Data Analysis and Feature Selection of Object Data Types](#Exploratory-data-analysis-and-feature-selection-of-object-data-types)\n",
    "\n",
    "[Dealing with Missing Values](#Dealing-with-Missing-Values)\n",
    "\n",
    "[Prepare The Data For Modeling](#Prepare-the-data-for-modeling)\n",
    "\n",
    "[Creating The Machine Learning Models](#Creating-the-machine-learning-models)\n",
    "\n",
    "[Finding The Important Features](#Finding-the-Important-features-from-the-best-model)\n",
    "\n",
    "[Making Predictions Using The Model](#Make-prediction-using-the-best-model)\n",
    "\n",
    "[Summary](#Summary)"
   ]
  },
  {
   "cell_type": "markdown",
   "id": "58f50a64",
   "metadata": {},
   "source": [
    "## Import the Libraries and Data for the tasks"
   ]
  },
  {
   "cell_type": "code",
   "execution_count": 1,
   "id": "9876b7e4",
   "metadata": {},
   "outputs": [],
   "source": [
    "# IMPORTING THE PRIMARY LIBRARIES FOR PROJECT\n",
    "\n",
    "import pandas as pd\n",
    "import numpy as np\n",
    "import matplotlib.pyplot as plt\n",
    "import seaborn as sns\n",
    "# sns.set()\n",
    "%matplotlib inline"
   ]
  },
  {
   "cell_type": "code",
   "execution_count": 2,
   "id": "a19c9df6",
   "metadata": {},
   "outputs": [],
   "source": [
    "# Import the machine learning algorithms packages\n",
    "from sklearn.model_selection import train_test_split\n",
    "from sklearn.preprocessing import StandardScaler,MinMaxScaler\n",
    "from sklearn.ensemble import AdaBoostClassifier, GradientBoostingClassifier, RandomForestClassifier\n",
    "from sklearn.tree import DecisionTreeClassifier"
   ]
  },
  {
   "cell_type": "code",
   "execution_count": 3,
   "id": "be579143",
   "metadata": {},
   "outputs": [],
   "source": [
    "# Import the packages for the performance metrics\n",
    "from sklearn.metrics import classification_report,ConfusionMatrixDisplay,accuracy_score, f1_score\n",
    "\n",
    "# Import the package for the gridsearch\n",
    "from sklearn.model_selection import GridSearchCV"
   ]
  },
  {
   "cell_type": "markdown",
   "id": "ec740058",
   "metadata": {},
   "source": [
    "#### Import The Data"
   ]
  },
  {
   "cell_type": "code",
   "execution_count": 4,
   "id": "f956b81e",
   "metadata": {},
   "outputs": [
    {
     "data": {
      "text/html": [
       "<div>\n",
       "<style scoped>\n",
       "    .dataframe tbody tr th:only-of-type {\n",
       "        vertical-align: middle;\n",
       "    }\n",
       "\n",
       "    .dataframe tbody tr th {\n",
       "        vertical-align: top;\n",
       "    }\n",
       "\n",
       "    .dataframe thead th {\n",
       "        text-align: right;\n",
       "    }\n",
       "</style>\n",
       "<table border=\"1\" class=\"dataframe\">\n",
       "  <thead>\n",
       "    <tr style=\"text-align: right;\">\n",
       "      <th></th>\n",
       "      <th>loan_amnt</th>\n",
       "      <th>term</th>\n",
       "      <th>int_rate</th>\n",
       "      <th>installment</th>\n",
       "      <th>grade</th>\n",
       "      <th>sub_grade</th>\n",
       "      <th>emp_title</th>\n",
       "      <th>emp_length</th>\n",
       "      <th>home_ownership</th>\n",
       "      <th>annual_inc</th>\n",
       "      <th>...</th>\n",
       "      <th>open_acc</th>\n",
       "      <th>pub_rec</th>\n",
       "      <th>revol_bal</th>\n",
       "      <th>revol_util</th>\n",
       "      <th>total_acc</th>\n",
       "      <th>initial_list_status</th>\n",
       "      <th>application_type</th>\n",
       "      <th>mort_acc</th>\n",
       "      <th>pub_rec_bankruptcies</th>\n",
       "      <th>address</th>\n",
       "    </tr>\n",
       "  </thead>\n",
       "  <tbody>\n",
       "    <tr>\n",
       "      <th>0</th>\n",
       "      <td>10000.0</td>\n",
       "      <td>36 months</td>\n",
       "      <td>11.44</td>\n",
       "      <td>329.48</td>\n",
       "      <td>B</td>\n",
       "      <td>B4</td>\n",
       "      <td>Marketing</td>\n",
       "      <td>10+ years</td>\n",
       "      <td>RENT</td>\n",
       "      <td>117000.0</td>\n",
       "      <td>...</td>\n",
       "      <td>16.0</td>\n",
       "      <td>0.0</td>\n",
       "      <td>36369.0</td>\n",
       "      <td>41.8</td>\n",
       "      <td>25.0</td>\n",
       "      <td>w</td>\n",
       "      <td>INDIVIDUAL</td>\n",
       "      <td>0.0</td>\n",
       "      <td>0.0</td>\n",
       "      <td>0174 Michelle Gateway\\r\\nMendozaberg, OK 22690</td>\n",
       "    </tr>\n",
       "    <tr>\n",
       "      <th>1</th>\n",
       "      <td>8000.0</td>\n",
       "      <td>36 months</td>\n",
       "      <td>11.99</td>\n",
       "      <td>265.68</td>\n",
       "      <td>B</td>\n",
       "      <td>B5</td>\n",
       "      <td>Credit analyst</td>\n",
       "      <td>4 years</td>\n",
       "      <td>MORTGAGE</td>\n",
       "      <td>65000.0</td>\n",
       "      <td>...</td>\n",
       "      <td>17.0</td>\n",
       "      <td>0.0</td>\n",
       "      <td>20131.0</td>\n",
       "      <td>53.3</td>\n",
       "      <td>27.0</td>\n",
       "      <td>f</td>\n",
       "      <td>INDIVIDUAL</td>\n",
       "      <td>3.0</td>\n",
       "      <td>0.0</td>\n",
       "      <td>1076 Carney Fort Apt. 347\\r\\nLoganmouth, SD 05113</td>\n",
       "    </tr>\n",
       "    <tr>\n",
       "      <th>2</th>\n",
       "      <td>15600.0</td>\n",
       "      <td>36 months</td>\n",
       "      <td>10.49</td>\n",
       "      <td>506.97</td>\n",
       "      <td>B</td>\n",
       "      <td>B3</td>\n",
       "      <td>Statistician</td>\n",
       "      <td>&lt; 1 year</td>\n",
       "      <td>RENT</td>\n",
       "      <td>43057.0</td>\n",
       "      <td>...</td>\n",
       "      <td>13.0</td>\n",
       "      <td>0.0</td>\n",
       "      <td>11987.0</td>\n",
       "      <td>92.2</td>\n",
       "      <td>26.0</td>\n",
       "      <td>f</td>\n",
       "      <td>INDIVIDUAL</td>\n",
       "      <td>0.0</td>\n",
       "      <td>0.0</td>\n",
       "      <td>87025 Mark Dale Apt. 269\\r\\nNew Sabrina, WV 05113</td>\n",
       "    </tr>\n",
       "    <tr>\n",
       "      <th>3</th>\n",
       "      <td>7200.0</td>\n",
       "      <td>36 months</td>\n",
       "      <td>6.49</td>\n",
       "      <td>220.65</td>\n",
       "      <td>A</td>\n",
       "      <td>A2</td>\n",
       "      <td>Client Advocate</td>\n",
       "      <td>6 years</td>\n",
       "      <td>RENT</td>\n",
       "      <td>54000.0</td>\n",
       "      <td>...</td>\n",
       "      <td>6.0</td>\n",
       "      <td>0.0</td>\n",
       "      <td>5472.0</td>\n",
       "      <td>21.5</td>\n",
       "      <td>13.0</td>\n",
       "      <td>f</td>\n",
       "      <td>INDIVIDUAL</td>\n",
       "      <td>0.0</td>\n",
       "      <td>0.0</td>\n",
       "      <td>823 Reid Ford\\r\\nDelacruzside, MA 00813</td>\n",
       "    </tr>\n",
       "    <tr>\n",
       "      <th>4</th>\n",
       "      <td>24375.0</td>\n",
       "      <td>60 months</td>\n",
       "      <td>17.27</td>\n",
       "      <td>609.33</td>\n",
       "      <td>C</td>\n",
       "      <td>C5</td>\n",
       "      <td>Destiny Management Inc.</td>\n",
       "      <td>9 years</td>\n",
       "      <td>MORTGAGE</td>\n",
       "      <td>55000.0</td>\n",
       "      <td>...</td>\n",
       "      <td>13.0</td>\n",
       "      <td>0.0</td>\n",
       "      <td>24584.0</td>\n",
       "      <td>69.8</td>\n",
       "      <td>43.0</td>\n",
       "      <td>f</td>\n",
       "      <td>INDIVIDUAL</td>\n",
       "      <td>1.0</td>\n",
       "      <td>0.0</td>\n",
       "      <td>679 Luna Roads\\r\\nGreggshire, VA 11650</td>\n",
       "    </tr>\n",
       "  </tbody>\n",
       "</table>\n",
       "<p>5 rows × 27 columns</p>\n",
       "</div>"
      ],
      "text/plain": [
       "   loan_amnt        term  int_rate  installment grade sub_grade  \\\n",
       "0    10000.0   36 months     11.44       329.48     B        B4   \n",
       "1     8000.0   36 months     11.99       265.68     B        B5   \n",
       "2    15600.0   36 months     10.49       506.97     B        B3   \n",
       "3     7200.0   36 months      6.49       220.65     A        A2   \n",
       "4    24375.0   60 months     17.27       609.33     C        C5   \n",
       "\n",
       "                 emp_title emp_length home_ownership  annual_inc  ...  \\\n",
       "0                Marketing  10+ years           RENT    117000.0  ...   \n",
       "1          Credit analyst     4 years       MORTGAGE     65000.0  ...   \n",
       "2             Statistician   < 1 year           RENT     43057.0  ...   \n",
       "3          Client Advocate    6 years           RENT     54000.0  ...   \n",
       "4  Destiny Management Inc.    9 years       MORTGAGE     55000.0  ...   \n",
       "\n",
       "  open_acc pub_rec revol_bal revol_util total_acc  initial_list_status  \\\n",
       "0     16.0     0.0   36369.0       41.8      25.0                    w   \n",
       "1     17.0     0.0   20131.0       53.3      27.0                    f   \n",
       "2     13.0     0.0   11987.0       92.2      26.0                    f   \n",
       "3      6.0     0.0    5472.0       21.5      13.0                    f   \n",
       "4     13.0     0.0   24584.0       69.8      43.0                    f   \n",
       "\n",
       "  application_type  mort_acc  pub_rec_bankruptcies  \\\n",
       "0       INDIVIDUAL       0.0                   0.0   \n",
       "1       INDIVIDUAL       3.0                   0.0   \n",
       "2       INDIVIDUAL       0.0                   0.0   \n",
       "3       INDIVIDUAL       0.0                   0.0   \n",
       "4       INDIVIDUAL       1.0                   0.0   \n",
       "\n",
       "                                             address  \n",
       "0     0174 Michelle Gateway\\r\\nMendozaberg, OK 22690  \n",
       "1  1076 Carney Fort Apt. 347\\r\\nLoganmouth, SD 05113  \n",
       "2  87025 Mark Dale Apt. 269\\r\\nNew Sabrina, WV 05113  \n",
       "3            823 Reid Ford\\r\\nDelacruzside, MA 00813  \n",
       "4             679 Luna Roads\\r\\nGreggshire, VA 11650  \n",
       "\n",
       "[5 rows x 27 columns]"
      ]
     },
     "execution_count": 4,
     "metadata": {},
     "output_type": "execute_result"
    }
   ],
   "source": [
    "# IMPORTING THE DATA AND VIEW ONLY THE FIRST FIVE ROWS\n",
    "df = pd.read_csv('lending_club_loan_two.csv')\n",
    "# Observe the first five observations of the data fram.\n",
    "df.head()"
   ]
  },
  {
   "cell_type": "code",
   "execution_count": 5,
   "id": "f2731d4e",
   "metadata": {},
   "outputs": [],
   "source": [
    "# make a copy of the data frame and use the copy for the project whiles the original will be reserved\n",
    "lend = df.copy()"
   ]
  },
  {
   "cell_type": "markdown",
   "id": "7c1fdaec",
   "metadata": {},
   "source": [
    "### Explore the overview of the data\n",
    "[Return to outline of tasks](#Outline-of-tasks)"
   ]
  },
  {
   "cell_type": "code",
   "execution_count": 6,
   "id": "cf265b96",
   "metadata": {},
   "outputs": [
    {
     "name": "stdout",
     "output_type": "stream",
     "text": [
      "<class 'pandas.core.frame.DataFrame'>\n",
      "RangeIndex: 396030 entries, 0 to 396029\n",
      "Data columns (total 27 columns):\n",
      " #   Column                Non-Null Count   Dtype  \n",
      "---  ------                --------------   -----  \n",
      " 0   loan_amnt             396030 non-null  float64\n",
      " 1   term                  396030 non-null  object \n",
      " 2   int_rate              396030 non-null  float64\n",
      " 3   installment           396030 non-null  float64\n",
      " 4   grade                 396030 non-null  object \n",
      " 5   sub_grade             396030 non-null  object \n",
      " 6   emp_title             373103 non-null  object \n",
      " 7   emp_length            377729 non-null  object \n",
      " 8   home_ownership        396030 non-null  object \n",
      " 9   annual_inc            396030 non-null  float64\n",
      " 10  verification_status   396030 non-null  object \n",
      " 11  issue_d               396030 non-null  object \n",
      " 12  loan_status           396030 non-null  object \n",
      " 13  purpose               396030 non-null  object \n",
      " 14  title                 394275 non-null  object \n",
      " 15  dti                   396030 non-null  float64\n",
      " 16  earliest_cr_line      396030 non-null  object \n",
      " 17  open_acc              396030 non-null  float64\n",
      " 18  pub_rec               396030 non-null  float64\n",
      " 19  revol_bal             396030 non-null  float64\n",
      " 20  revol_util            395754 non-null  float64\n",
      " 21  total_acc             396030 non-null  float64\n",
      " 22  initial_list_status   396030 non-null  object \n",
      " 23  application_type      396030 non-null  object \n",
      " 24  mort_acc              358235 non-null  float64\n",
      " 25  pub_rec_bankruptcies  395495 non-null  float64\n",
      " 26  address               396030 non-null  object \n",
      "dtypes: float64(12), object(15)\n",
      "memory usage: 81.6+ MB\n"
     ]
    }
   ],
   "source": [
    "# Find the general information of the dataset\n",
    "lend.info()"
   ]
  },
  {
   "cell_type": "code",
   "execution_count": 7,
   "id": "a845f3d5",
   "metadata": {},
   "outputs": [
    {
     "data": {
      "image/png": "[encoded data removed]",
      "text/plain": [
       "<Figure size 576x360 with 1 Axes>"
      ]
     },
     "metadata": {
      "needs_background": "light"
     },
     "output_type": "display_data"
    }
   ],
   "source": [
    "# Examine the loan_status column which is the label\n",
    "annot = (lend[\"loan_status\"].value_counts(normalize=True)*100).round().plot(kind=\"bar\",\n",
    "                                                                            figsize=(8,5), title=\"Loan Status of Clients\")\n",
    "\n",
    "# Annotate the bars\n",
    "annot.bar_label(annot.containers[0],size=12)\n",
    "plt.show()"
   ]
  },
  {
   "cell_type": "markdown",
   "id": "62c88af3",
   "metadata": {},
   "source": [
    "From the above bar graph, those who fully paid back their loan constitute 80% of the total number of clients who borrowed from Lending Club. This means that the accuracy of the model would be at least 80%. This is misleading because the model will predict 80% of the time, that the prospective borrower would pay back the loan which is not always the case. To handle this issue, I will reduce the number of clients who fully paid back their loan to the number of those who didn't. "
   ]
  },
  {
   "cell_type": "code",
   "execution_count": 8,
   "id": "43e43c27",
   "metadata": {},
   "outputs": [
    {
     "data": {
      "text/plain": [
       "Fully Paid     318357\n",
       "Charged Off     77673\n",
       "Name: loan_status, dtype: int64"
      ]
     },
     "execution_count": 8,
     "metadata": {},
     "output_type": "execute_result"
    }
   ],
   "source": [
    "# Let find the actual number of those who paid back and those who didn't\n",
    "lend['loan_status'].value_counts()"
   ]
  },
  {
   "cell_type": "markdown",
   "id": "739fcf77",
   "metadata": {},
   "source": [
    "Thus, 318,357 of the clients fully paid back their loan whiles 77,673 didn't pay back their loan."
   ]
  },
  {
   "cell_type": "markdown",
   "id": "e0a3f232",
   "metadata": {},
   "source": [
    "##### Reduce the number  of those who full paid to those the number of those who charged off (defaulted)"
   ]
  },
  {
   "cell_type": "code",
   "execution_count": 9,
   "id": "bfba2e7b",
   "metadata": {},
   "outputs": [
    {
     "name": "stdout",
     "output_type": "stream",
     "text": [
      "24.398081399183933\n"
     ]
    }
   ],
   "source": [
    "# First let me extract those who fully paid from the lend data set and store it fully_paid\n",
    "fully_paid = lend.query('loan_status==\"Fully Paid\"')\n",
    "\n",
    "# Let me also extract those who didn't pay back their loan and store it as charged off \n",
    "charged_off = lend[lend[\"loan_status\"]==\"Charged Off\"]\n",
    "\n",
    "# Now divide the total number of those who charge off which is 77,673 by the number of those who fully paid.\n",
    "print(100*len(charged_off)/(len(fully_paid)))\n",
    "\n",
    "# Reduce the number of those who paid their loan by 24.398% and store it as new_fully_paid\n",
    "new_fully_paid = fully_paid.sample(frac=0.24398)\n",
    "\n",
    "# Now let me put the new_fully_paid and charged off data together and name it lend\n",
    "lend = pd.concat([charged_off,new_fully_paid],axis=0)\n"
   ]
  },
  {
   "cell_type": "markdown",
   "id": "d87c6b7d",
   "metadata": {},
   "source": [
    "##### Now Let verify if the number those who fully paid their loan has reduced"
   ]
  },
  {
   "cell_type": "code",
   "execution_count": 10,
   "id": "d204a6c9",
   "metadata": {},
   "outputs": [
    {
     "data": {
      "image/png": "[encoded data removed]",
      "text/plain": [
       "<Figure size 576x360 with 1 Axes>"
      ]
     },
     "metadata": {
      "needs_background": "light"
     },
     "output_type": "display_data"
    }
   ],
   "source": [
    "# Reaxamine the loan_status column which is the label\n",
    "annot = (lend[\"loan_status\"].value_counts(normalize=True)*100).round().plot(kind=\"bar\",\n",
    "                                                                            figsize=(8,5), title=\"Loan Status of Clients\")\n",
    "\n",
    "# Annotate the bars\n",
    "annot.bar_label(annot.containers[0],size=12)\n",
    "plt.show()"
   ]
  },
  {
   "cell_type": "markdown",
   "id": "e6bdef73",
   "metadata": {},
   "source": [
    "Thus, the accuracy score for the model wouldn't be misleading since both those who charged off and fully paid are the same;50% each. "
   ]
  },
  {
   "cell_type": "markdown",
   "id": "22e7d0d4",
   "metadata": {},
   "source": [
    "## Exploratory Data Analysis and feature selection of numeric data types\n",
    "[Return to outline of tasks](#Outline-of-tasks)"
   ]
  },
  {
   "cell_type": "code",
   "execution_count": 11,
   "id": "18f3bbf7",
   "metadata": {},
   "outputs": [],
   "source": [
    "# Create a function that will select columns with numeric data types\n",
    "def numeric(x):\n",
    "    \n",
    "    return x.select_dtypes(np.number)"
   ]
  },
  {
   "cell_type": "code",
   "execution_count": 12,
   "id": "d87a12ed",
   "metadata": {},
   "outputs": [
    {
     "data": {
      "text/html": [
       "<div>\n",
       "<style scoped>\n",
       "    .dataframe tbody tr th:only-of-type {\n",
       "        vertical-align: middle;\n",
       "    }\n",
       "\n",
       "    .dataframe tbody tr th {\n",
       "        vertical-align: top;\n",
       "    }\n",
       "\n",
       "    .dataframe thead th {\n",
       "        text-align: right;\n",
       "    }\n",
       "</style>\n",
       "<table border=\"1\" class=\"dataframe\">\n",
       "  <thead>\n",
       "    <tr style=\"text-align: right;\">\n",
       "      <th></th>\n",
       "      <th>loan_amnt</th>\n",
       "      <th>int_rate</th>\n",
       "      <th>installment</th>\n",
       "      <th>annual_inc</th>\n",
       "      <th>dti</th>\n",
       "      <th>open_acc</th>\n",
       "      <th>pub_rec</th>\n",
       "      <th>revol_bal</th>\n",
       "      <th>revol_util</th>\n",
       "      <th>total_acc</th>\n",
       "      <th>mort_acc</th>\n",
       "      <th>pub_rec_bankruptcies</th>\n",
       "    </tr>\n",
       "  </thead>\n",
       "  <tbody>\n",
       "    <tr>\n",
       "      <th>4</th>\n",
       "      <td>24375.0</td>\n",
       "      <td>17.27</td>\n",
       "      <td>609.33</td>\n",
       "      <td>55000.0</td>\n",
       "      <td>33.95</td>\n",
       "      <td>13.0</td>\n",
       "      <td>0.0</td>\n",
       "      <td>24584.0</td>\n",
       "      <td>69.8</td>\n",
       "      <td>43.0</td>\n",
       "      <td>1.0</td>\n",
       "      <td>0.0</td>\n",
       "    </tr>\n",
       "    <tr>\n",
       "      <th>25</th>\n",
       "      <td>6000.0</td>\n",
       "      <td>11.36</td>\n",
       "      <td>197.47</td>\n",
       "      <td>46680.0</td>\n",
       "      <td>6.56</td>\n",
       "      <td>9.0</td>\n",
       "      <td>0.0</td>\n",
       "      <td>4370.0</td>\n",
       "      <td>40.1</td>\n",
       "      <td>10.0</td>\n",
       "      <td>NaN</td>\n",
       "      <td>0.0</td>\n",
       "    </tr>\n",
       "    <tr>\n",
       "      <th>26</th>\n",
       "      <td>8400.0</td>\n",
       "      <td>13.35</td>\n",
       "      <td>284.45</td>\n",
       "      <td>35000.0</td>\n",
       "      <td>23.08</td>\n",
       "      <td>6.0</td>\n",
       "      <td>0.0</td>\n",
       "      <td>6953.0</td>\n",
       "      <td>74.8</td>\n",
       "      <td>17.0</td>\n",
       "      <td>0.0</td>\n",
       "      <td>0.0</td>\n",
       "    </tr>\n",
       "    <tr>\n",
       "      <th>36</th>\n",
       "      <td>3250.0</td>\n",
       "      <td>16.78</td>\n",
       "      <td>115.52</td>\n",
       "      <td>22500.0</td>\n",
       "      <td>18.76</td>\n",
       "      <td>7.0</td>\n",
       "      <td>0.0</td>\n",
       "      <td>7587.0</td>\n",
       "      <td>54.6</td>\n",
       "      <td>7.0</td>\n",
       "      <td>0.0</td>\n",
       "      <td>0.0</td>\n",
       "    </tr>\n",
       "    <tr>\n",
       "      <th>41</th>\n",
       "      <td>28000.0</td>\n",
       "      <td>19.91</td>\n",
       "      <td>312.04</td>\n",
       "      <td>52000.0</td>\n",
       "      <td>20.70</td>\n",
       "      <td>10.0</td>\n",
       "      <td>0.0</td>\n",
       "      <td>29178.0</td>\n",
       "      <td>87.6</td>\n",
       "      <td>16.0</td>\n",
       "      <td>NaN</td>\n",
       "      <td>0.0</td>\n",
       "    </tr>\n",
       "    <tr>\n",
       "      <th>...</th>\n",
       "      <td>...</td>\n",
       "      <td>...</td>\n",
       "      <td>...</td>\n",
       "      <td>...</td>\n",
       "      <td>...</td>\n",
       "      <td>...</td>\n",
       "      <td>...</td>\n",
       "      <td>...</td>\n",
       "      <td>...</td>\n",
       "      <td>...</td>\n",
       "      <td>...</td>\n",
       "      <td>...</td>\n",
       "    </tr>\n",
       "    <tr>\n",
       "      <th>72511</th>\n",
       "      <td>5000.0</td>\n",
       "      <td>9.16</td>\n",
       "      <td>159.38</td>\n",
       "      <td>64000.0</td>\n",
       "      <td>19.20</td>\n",
       "      <td>10.0</td>\n",
       "      <td>0.0</td>\n",
       "      <td>30414.0</td>\n",
       "      <td>61.1</td>\n",
       "      <td>35.0</td>\n",
       "      <td>3.0</td>\n",
       "      <td>0.0</td>\n",
       "    </tr>\n",
       "    <tr>\n",
       "      <th>63763</th>\n",
       "      <td>20975.0</td>\n",
       "      <td>16.99</td>\n",
       "      <td>521.18</td>\n",
       "      <td>66500.0</td>\n",
       "      <td>16.19</td>\n",
       "      <td>7.0</td>\n",
       "      <td>0.0</td>\n",
       "      <td>8426.0</td>\n",
       "      <td>80.2</td>\n",
       "      <td>27.0</td>\n",
       "      <td>3.0</td>\n",
       "      <td>0.0</td>\n",
       "    </tr>\n",
       "    <tr>\n",
       "      <th>387297</th>\n",
       "      <td>26400.0</td>\n",
       "      <td>7.26</td>\n",
       "      <td>818.30</td>\n",
       "      <td>105000.0</td>\n",
       "      <td>24.28</td>\n",
       "      <td>22.0</td>\n",
       "      <td>0.0</td>\n",
       "      <td>52051.0</td>\n",
       "      <td>64.1</td>\n",
       "      <td>38.0</td>\n",
       "      <td>2.0</td>\n",
       "      <td>0.0</td>\n",
       "    </tr>\n",
       "    <tr>\n",
       "      <th>227231</th>\n",
       "      <td>5000.0</td>\n",
       "      <td>8.49</td>\n",
       "      <td>157.82</td>\n",
       "      <td>90000.0</td>\n",
       "      <td>17.24</td>\n",
       "      <td>17.0</td>\n",
       "      <td>0.0</td>\n",
       "      <td>3301.0</td>\n",
       "      <td>25.4</td>\n",
       "      <td>22.0</td>\n",
       "      <td>NaN</td>\n",
       "      <td>0.0</td>\n",
       "    </tr>\n",
       "    <tr>\n",
       "      <th>348725</th>\n",
       "      <td>21000.0</td>\n",
       "      <td>13.11</td>\n",
       "      <td>708.69</td>\n",
       "      <td>125000.0</td>\n",
       "      <td>14.46</td>\n",
       "      <td>13.0</td>\n",
       "      <td>1.0</td>\n",
       "      <td>28556.0</td>\n",
       "      <td>55.8</td>\n",
       "      <td>33.0</td>\n",
       "      <td>11.0</td>\n",
       "      <td>1.0</td>\n",
       "    </tr>\n",
       "  </tbody>\n",
       "</table>\n",
       "<p>155346 rows × 12 columns</p>\n",
       "</div>"
      ],
      "text/plain": [
       "        loan_amnt  int_rate  installment  annual_inc    dti  open_acc  \\\n",
       "4         24375.0     17.27       609.33     55000.0  33.95      13.0   \n",
       "25         6000.0     11.36       197.47     46680.0   6.56       9.0   \n",
       "26         8400.0     13.35       284.45     35000.0  23.08       6.0   \n",
       "36         3250.0     16.78       115.52     22500.0  18.76       7.0   \n",
       "41        28000.0     19.91       312.04     52000.0  20.70      10.0   \n",
       "...           ...       ...          ...         ...    ...       ...   \n",
       "72511      5000.0      9.16       159.38     64000.0  19.20      10.0   \n",
       "63763     20975.0     16.99       521.18     66500.0  16.19       7.0   \n",
       "387297    26400.0      7.26       818.30    105000.0  24.28      22.0   \n",
       "227231     5000.0      8.49       157.82     90000.0  17.24      17.0   \n",
       "348725    21000.0     13.11       708.69    125000.0  14.46      13.0   \n",
       "\n",
       "        pub_rec  revol_bal  revol_util  total_acc  mort_acc  \\\n",
       "4           0.0    24584.0        69.8       43.0       1.0   \n",
       "25          0.0     4370.0        40.1       10.0       NaN   \n",
       "26          0.0     6953.0        74.8       17.0       0.0   \n",
       "36          0.0     7587.0        54.6        7.0       0.0   \n",
       "41          0.0    29178.0        87.6       16.0       NaN   \n",
       "...         ...        ...         ...        ...       ...   \n",
       "72511       0.0    30414.0        61.1       35.0       3.0   \n",
       "63763       0.0     8426.0        80.2       27.0       3.0   \n",
       "387297      0.0    52051.0        64.1       38.0       2.0   \n",
       "227231      0.0     3301.0        25.4       22.0       NaN   \n",
       "348725      1.0    28556.0        55.8       33.0      11.0   \n",
       "\n",
       "        pub_rec_bankruptcies  \n",
       "4                        0.0  \n",
       "25                       0.0  \n",
       "26                       0.0  \n",
       "36                       0.0  \n",
       "41                       0.0  \n",
       "...                      ...  \n",
       "72511                    0.0  \n",
       "63763                    0.0  \n",
       "387297                   0.0  \n",
       "227231                   0.0  \n",
       "348725                   1.0  \n",
       "\n",
       "[155346 rows x 12 columns]"
      ]
     },
     "execution_count": 12,
     "metadata": {},
     "output_type": "execute_result"
    }
   ],
   "source": [
    "# Select the columns with numeric data types\n",
    "numeric(lend)"
   ]
  },
  {
   "cell_type": "code",
   "execution_count": 13,
   "id": "ea661dac",
   "metadata": {},
   "outputs": [],
   "source": [
    "# Change charge off and fully paid to 0 and 1 respectively\n",
    "lend[\"loan_status\"] = lend[\"loan_status\"].map({\"Charged Off\":0, \"Fully Paid\":1})\n"
   ]
  },
  {
   "cell_type": "code",
   "execution_count": 14,
   "id": "b05eab0a",
   "metadata": {},
   "outputs": [
    {
     "data": {
      "image/png": "[encoded data removed]",
      "text/plain": [
       "<Figure size 800x400 with 1 Axes>"
      ]
     },
     "metadata": {
      "needs_background": "light"
     },
     "output_type": "display_data"
    }
   ],
   "source": [
    "# Find the correlation of the loan status column with the features with numeric data types, and store it as correlation\n",
    "correlation = lend.corr()[\"loan_status\"].sort_values(ascending=False)\n",
    "\n",
    "# Create an empty figure and increase the size.\n",
    "plt.figure(figsize=(8,4),dpi=100)\n",
    "\n",
    "# Plot correlation in a bar graph\n",
    "correlation[1:].plot(kind=\"bar\")\n",
    "\n",
    "# Give name to the x-axis\n",
    "plt.xlabel(\"Numeric Features\")\n",
    "\n",
    "# Give name to the y-axis\n",
    "plt.ylabel(\"Correlation Values\")\n",
    "\n",
    "# Title the graph\n",
    "plt.title(\"Correlation between numeric features and loan status\")\n",
    "# show the diagram\n",
    "plt.show()"
   ]
  },
  {
   "cell_type": "markdown",
   "id": "911bdfc9",
   "metadata": {},
   "source": [
    "\n",
    "1. Thus, the interest rate of the loan has the highest correlation with the loan status followed by revolving utilization rate (revol_util), followed by number of mortage account (mort_acc) with the least being number of public record bankruptcies bankrupt (pub_rec_bankruptcies).\n",
    "\n",
    "2. Features such as interest rate, Revolving Utilization Rate(revol_util), dti, loan amount(loan_amount), installment, open_acc and public record bankruptcies (pub_rec_bankruptcies) all have negative correlation with the Fully paid (1). This means, the higher value of any of them, the lower the chance of the borrower paying back his loan, and the vice versa. However, features such as revol_bal, total_acc, annual_inc and mort_acc have positive correlation with loan status implying that when any of them increases in value, the higher the chance of the borrower paying fully the loan, and vice versa."
   ]
  },
  {
   "cell_type": "markdown",
   "id": "927a6134",
   "metadata": {},
   "source": [
    "##### Create a heatmap for the columns with numeric data types to find out multicolinearity"
   ]
  },
  {
   "cell_type": "code",
   "execution_count": 15,
   "id": "1931e2bb",
   "metadata": {},
   "outputs": [
    {
     "data": {
      "image/png": "[encoded data removed]",
      "text/plain": [
       "<Figure size 900x540 with 2 Axes>"
      ]
     },
     "metadata": {
      "needs_background": "light"
     },
     "output_type": "display_data"
    }
   ],
   "source": [
    "# Create a figure and increase the size\n",
    "plt.figure(figsize=(10,6),dpi=90)\n",
    "sns.heatmap(lend.corr(),annot=True, cmap=\"Blues\")\n",
    "\n",
    "# title the heatmap\n",
    "plt.title(\"Correlation of numeric features\")\n",
    "\n",
    "plt.show()"
   ]
  },
  {
   "cell_type": "markdown",
   "id": "7db79aad",
   "metadata": {},
   "source": [
    "From the heatmap, we can see that installment and loan amount are highly correlated. They are collinear, thus one has to be removed."
   ]
  },
  {
   "cell_type": "code",
   "execution_count": 16,
   "id": "397f97b7",
   "metadata": {},
   "outputs": [],
   "source": [
    "# Drop the loan amount column\n",
    "\n",
    "lend = lend.drop(\"loan_amnt\",axis=1)"
   ]
  },
  {
   "cell_type": "markdown",
   "id": "b5700163",
   "metadata": {},
   "source": [
    "## Exploratory data analysis and feature selection of object data types\n",
    "[Return to Outline of tasks](#Outline-of-tasks)"
   ]
  },
  {
   "cell_type": "code",
   "execution_count": 17,
   "id": "ba54f4f5",
   "metadata": {},
   "outputs": [
    {
     "data": {
      "text/plain": [
       "Index(['term', 'grade', 'sub_grade', 'emp_title', 'emp_length',\n",
       "       'home_ownership', 'verification_status', 'issue_d', 'purpose', 'title',\n",
       "       'earliest_cr_line', 'initial_list_status', 'application_type',\n",
       "       'address'],\n",
       "      dtype='object')"
      ]
     },
     "execution_count": 17,
     "metadata": {},
     "output_type": "execute_result"
    }
   ],
   "source": [
    "# Find the columns with object data types\n",
    "lend.select_dtypes('object').columns"
   ]
  },
  {
   "cell_type": "markdown",
   "id": "bc206233",
   "metadata": {},
   "source": [
    "\n",
    "##### Create a function with name explore, which will give summary of  the objective data types and their categories with visualization\n"
   ]
  },
  {
   "cell_type": "code",
   "execution_count": 18,
   "id": "c13b2c79",
   "metadata": {},
   "outputs": [],
   "source": [
    "\n",
    "def explore(df,col,label=\"loan_status\"):\n",
    "    '''\n",
    "    This function returns the summary of the categorical variables,\n",
    "    and also displays the visual of the various categories in each categorical object column.\n",
    "    It takes two keyword arguements which are df and col.\n",
    "    df: Dataframe\n",
    "    col: The column with object data type.\n",
    "    '''\n",
    "    unique_items = df[col].nunique()\n",
    "#     ordered_col =sorted(df[col].unique()) \n",
    "    if unique_items <= 4:\n",
    "        print(\"-------------------------------------------------\")\n",
    "        print(f\"There are {df[col].nunique()} unique items in the {col} column.\")\n",
    "        print(\"The unique items and their respective counts are:\"+\"\\n\",(df[col].value_counts()))\n",
    "        print(\"-------------------------------------------------\")\n",
    "        print()\n",
    "        \n",
    "        # Create an empty figure and name increase its size\n",
    "        plt.figure(figsize=(5,5),dpi=90)\n",
    "        # plot the graph\n",
    "        annot = sns.countplot(data=df, x=col, hue=label)\n",
    "        # Give title to the graph\n",
    "        plt.title(f\"Unique items in {col} given {label}\")\n",
    "        # annotate the bars\n",
    "        for container in annot.containers:\n",
    "            annot.bar_label(container)\n",
    "        plt.legend(loc=(1.02,.85))\n",
    "        # show the graph\n",
    "        plt.show()\n",
    "    else:\n",
    "        print()\n",
    "        print(\"-------------------------------------------------\")\n",
    "        print(f\"There are {df[col].nunique()} unique items in the {col} column.\")\n",
    "        print(\"The unique items and their respective counts are:\"+\"\\n\",(df[col].value_counts()))\n",
    "        print(\"-------------------------------------------------\")\n",
    "        \n",
    "        # Create an empty figure and name increase its size\n",
    "        plt.figure(figsize=(9,5),dpi=90)\n",
    "        # plot the graph\n",
    "        annot = sns.countplot(data=df, y=col, hue=label)\n",
    "        # Give title to the graph\n",
    "        plt.title(f\"Unique items in {col} given {label}\")\n",
    "        # annotate the bars\n",
    "        for container in annot.containers:\n",
    "            annot.bar_label(container)\n",
    "        # show the graph\n",
    "        plt.legend(loc=(1.02,0.85))\n",
    "        plt.show()\n",
    "        "
   ]
  },
  {
   "cell_type": "markdown",
   "id": "b9170baa",
   "metadata": {},
   "source": [
    "#### Term"
   ]
  },
  {
   "cell_type": "code",
   "execution_count": 19,
   "id": "676e9582",
   "metadata": {},
   "outputs": [
    {
     "name": "stdout",
     "output_type": "stream",
     "text": [
      "-------------------------------------------------\n",
      "There are 2 unique items in the term column.\n",
      "The unique items and their respective counts are:\n",
      "  36 months    109541\n",
      " 60 months     45805\n",
      "Name: term, dtype: int64\n",
      "-------------------------------------------------\n",
      "\n"
     ]
    },
    {
     "data": {
      "image/png": "[encoded data removed]",
      "text/plain": [
       "<Figure size 450x450 with 1 Axes>"
      ]
     },
     "metadata": {
      "needs_background": "light"
     },
     "output_type": "display_data"
    }
   ],
   "source": [
    "explore(lend,\"term\")"
   ]
  },
  {
   "cell_type": "markdown",
   "id": "18c12b59",
   "metadata": {},
   "source": [
    "From the above summary, 30,033 clients who had 60 months to repay their loan turned out to charged off whiles only 15,693 fully paid back. Contrary to the 36 months term, 61,980 clients fully paid their loan whiles 47,640 charged off."
   ]
  },
  {
   "cell_type": "markdown",
   "id": "566d3616",
   "metadata": {},
   "source": [
    "#### Grade"
   ]
  },
  {
   "cell_type": "code",
   "execution_count": 20,
   "id": "7fc2e8eb",
   "metadata": {},
   "outputs": [
    {
     "name": "stdout",
     "output_type": "stream",
     "text": [
      "\n",
      "-------------------------------------------------\n",
      "There are 7 unique items in the grade column.\n",
      "The unique items and their respective counts are:\n",
      " C    42871\n",
      "B    39331\n",
      "D    29329\n",
      "A    18730\n",
      "E    16559\n",
      "F     6690\n",
      "G     1836\n",
      "Name: grade, dtype: int64\n",
      "-------------------------------------------------\n"
     ]
    },
    {
     "data": {
      "image/png": "[encoded data removed]",
      "text/plain": [
       "<Figure size 810x450 with 1 Axes>"
      ]
     },
     "metadata": {
      "needs_background": "light"
     },
     "output_type": "display_data"
    }
   ],
   "source": [
    "explore(lend,\"grade\")"
   ]
  },
  {
   "cell_type": "markdown",
   "id": "7242a771",
   "metadata": {},
   "source": [
    "The grouped bar graph indicates that 14,716 clients with assigned grade A fully paid their loan whiles 4,036 charged off. Also, 24,553 of clients with assigned grade B fully paid their loans whiles 14,587 of them charged off. However, more of clients with assigned grade C to G charged off in each assigned grade than those who fully paid."
   ]
  },
  {
   "cell_type": "markdown",
   "id": "e5e97d51",
   "metadata": {},
   "source": [
    "#### sub_grade"
   ]
  },
  {
   "cell_type": "code",
   "execution_count": 21,
   "id": "4ce21203",
   "metadata": {},
   "outputs": [
    {
     "name": "stdout",
     "output_type": "stream",
     "text": [
      "B3    9034\n",
      "C2    8936\n",
      "B4    8855\n",
      "C1    8807\n",
      "C3    8736\n",
      "C4    8584\n",
      "B5    7972\n",
      "C5    7808\n",
      "B2    7325\n",
      "D1    7122\n",
      "D2    6339\n",
      "B1    6145\n",
      "A5    5787\n",
      "D3    5577\n",
      "D4    5566\n",
      "D5    4725\n",
      "A4    4654\n",
      "E1    4020\n",
      "E2    3847\n",
      "E3    3293\n",
      "A3    3032\n",
      "E4    2921\n",
      "A2    2703\n",
      "A1    2554\n",
      "E5    2478\n",
      "F1    1888\n",
      "F2    1558\n",
      "F3    1320\n",
      "F4    1071\n",
      "F5     853\n",
      "G1     619\n",
      "G2     454\n",
      "G3     340\n",
      "G4     226\n",
      "G5     197\n",
      "Name: sub_grade, dtype: int64\n"
     ]
    },
    {
     "data": {
      "image/png": "[encoded data removed]",
      "text/plain": [
       "<Figure size 1120x480 with 1 Axes>"
      ]
     },
     "metadata": {
      "needs_background": "light"
     },
     "output_type": "display_data"
    }
   ],
   "source": [
    "# Find the number of each unique item in sub_grade\n",
    "print(lend[\"sub_grade\"].value_counts())\n",
    "\n",
    "# Create an empty figure and increase its size\n",
    "plt.figure(figsize=(14,6),dpi=80)\n",
    "\n",
    "# Create a groubed bar graph for the sub_grade\n",
    "sns.countplot(data=lend,x =\"sub_grade\", order = sorted(lend['sub_grade'].unique()),hue=\"loan_status\")\n",
    "plt.title(\"Unique items in sub_grade given loan status\")\n",
    "plt.show()"
   ]
  },
  {
   "cell_type": "markdown",
   "id": "5e7616d3",
   "metadata": {},
   "source": [
    "The bag graph indicates clients assigned with grade A1 - C1 fully paid their loans whiles those assigned with C2 - G5 Charged off. Since the sub_grade provides almost the same information as Grade, I will remove grade from the data set."
   ]
  },
  {
   "cell_type": "code",
   "execution_count": 22,
   "id": "8deb46b2",
   "metadata": {},
   "outputs": [],
   "source": [
    "# Remove sub_grade column from the data set\n",
    "lend = lend.drop(\"grade\", axis=1)"
   ]
  },
  {
   "cell_type": "code",
   "execution_count": 23,
   "id": "3c140848",
   "metadata": {},
   "outputs": [
    {
     "data": {
      "text/plain": [
       "Index(['term', 'sub_grade', 'emp_title', 'emp_length', 'home_ownership',\n",
       "       'verification_status', 'issue_d', 'purpose', 'title',\n",
       "       'earliest_cr_line', 'initial_list_status', 'application_type',\n",
       "       'address'],\n",
       "      dtype='object')"
      ]
     },
     "execution_count": 23,
     "metadata": {},
     "output_type": "execute_result"
    }
   ],
   "source": [
    "lend.select_dtypes('object').columns"
   ]
  },
  {
   "cell_type": "markdown",
   "id": "3b7181f2",
   "metadata": {},
   "source": [
    "#### Emp_title"
   ]
  },
  {
   "cell_type": "code",
   "execution_count": 24,
   "id": "c534ca8e",
   "metadata": {},
   "outputs": [
    {
     "name": "stdout",
     "output_type": "stream",
     "text": [
      "The job title(emp_title) has 76505 unique items.\n"
     ]
    }
   ],
   "source": [
    "# find the number of unique it\n",
    "print(\"The job title(emp_title) has {} unique items.\".format(lend[\"emp_title\"].nunique()))"
   ]
  },
  {
   "cell_type": "markdown",
   "id": "405cc7b6",
   "metadata": {},
   "source": [
    "The emp_title has so many unique items, it will thus be removed from the data set"
   ]
  },
  {
   "cell_type": "code",
   "execution_count": 25,
   "id": "bb236155",
   "metadata": {},
   "outputs": [],
   "source": [
    "# Remove the emp_title \n",
    "lend = lend.drop('emp_title',axis=1)"
   ]
  },
  {
   "cell_type": "markdown",
   "id": "16e1ca06",
   "metadata": {},
   "source": [
    "#### Emp_length\n",
    "[Return to outline of tasks](#Outline-of-tasks)"
   ]
  },
  {
   "cell_type": "code",
   "execution_count": 26,
   "id": "37f81b04",
   "metadata": {},
   "outputs": [
    {
     "name": "stdout",
     "output_type": "stream",
     "text": [
      "\n",
      "-------------------------------------------------\n",
      "There are 11 unique items in the emp_length column.\n",
      "The unique items and their respective counts are:\n",
      " 10+ years    48262\n",
      "2 years      14051\n",
      "< 1 year     12703\n",
      "3 years      12427\n",
      "5 years      10255\n",
      "1 year       10205\n",
      "4 years       9240\n",
      "6 years       8159\n",
      "7 years       8138\n",
      "8 years       7565\n",
      "9 years       6066\n",
      "Name: emp_length, dtype: int64\n",
      "-------------------------------------------------\n"
     ]
    },
    {
     "data": {
      "image/png": "[encoded data removed]",
      "text/plain": [
       "<Figure size 810x450 with 1 Axes>"
      ]
     },
     "metadata": {
      "needs_background": "light"
     },
     "output_type": "display_data"
    }
   ],
   "source": [
    "explore(lend,\"emp_length\")"
   ]
  },
  {
   "cell_type": "markdown",
   "id": "404ba3ef",
   "metadata": {},
   "source": [
    "From the above chart, more of those who have been employed for one year or less turn to charge off than those who fully paid. The clients who have been employeed for 10 years or more more of them fully paid their loan than those who charged off"
   ]
  },
  {
   "cell_type": "markdown",
   "id": "4bbf6d74",
   "metadata": {},
   "source": [
    "#### Home Ownership\n",
    "[Return to outline of task](#Outline-of-tasks)"
   ]
  },
  {
   "cell_type": "code",
   "execution_count": 27,
   "id": "8b7047f0",
   "metadata": {},
   "outputs": [
    {
     "name": "stdout",
     "output_type": "stream",
     "text": [
      "\n",
      "-------------------------------------------------\n",
      "There are 5 unique items in the home_ownership column.\n",
      "The unique items and their respective counts are:\n",
      " MORTGAGE    73838\n",
      "RENT        66313\n",
      "OWN         15146\n",
      "OTHER          35\n",
      "NONE           14\n",
      "Name: home_ownership, dtype: int64\n",
      "-------------------------------------------------\n"
     ]
    },
    {
     "data": {
      "image/png": "[encoded data removed]",
      "text/plain": [
       "<Figure size 810x450 with 1 Axes>"
      ]
     },
     "metadata": {
      "needs_background": "light"
     },
     "output_type": "display_data"
    }
   ],
   "source": [
    "explore(lend,'home_ownership')"
   ]
  },
  {
   "cell_type": "markdown",
   "id": "c2d5f61a",
   "metadata": {},
   "source": [
    "The above chart indicates majority of clients who mortgage their homes fully paid back their loans than those who rent their homes."
   ]
  },
  {
   "cell_type": "code",
   "execution_count": 28,
   "id": "45f80598",
   "metadata": {},
   "outputs": [],
   "source": [
    "# Add other, none and any to mortage\n",
    "lend[\"home_ownership\"] = lend[\"home_ownership\"].replace([\"OTHER\",\"NONE\",\"ANY\"],\"MORTGAGE\")"
   ]
  },
  {
   "cell_type": "markdown",
   "id": "607acd6a",
   "metadata": {},
   "source": [
    "#### Verification Status"
   ]
  },
  {
   "cell_type": "code",
   "execution_count": 29,
   "id": "731a4a0c",
   "metadata": {},
   "outputs": [
    {
     "name": "stdout",
     "output_type": "stream",
     "text": [
      "-------------------------------------------------\n",
      "There are 3 unique items in the verification_status column.\n",
      "The unique items and their respective counts are:\n",
      " Verified           57728\n",
      "Source Verified    53360\n",
      "Not Verified       44258\n",
      "Name: verification_status, dtype: int64\n",
      "-------------------------------------------------\n",
      "\n"
     ]
    },
    {
     "data": {
      "image/png": "[encoded data removed]",
      "text/plain": [
       "<Figure size 450x450 with 1 Axes>"
      ]
     },
     "metadata": {
      "needs_background": "light"
     },
     "output_type": "display_data"
    }
   ],
   "source": [
    "explore(lend,'verification_status')"
   ]
  },
  {
   "cell_type": "markdown",
   "id": "242574cb",
   "metadata": {},
   "source": [
    "The verification status chart shows that the clients who had their status not verified fully paid their loan than those who had verified status as well as those with source verified status."
   ]
  },
  {
   "cell_type": "markdown",
   "id": "cd64b3f4",
   "metadata": {},
   "source": [
    "#### (issue_d)\n",
    "[Return to outline of tasks](#Outline-of-tasks)"
   ]
  },
  {
   "cell_type": "code",
   "execution_count": 30,
   "id": "c059b316",
   "metadata": {},
   "outputs": [
    {
     "data": {
      "text/plain": [
       "4         Apr-2013\n",
       "25        Apr-2010\n",
       "26        Jun-2014\n",
       "36        Aug-2013\n",
       "41        Dec-2011\n",
       "            ...   \n",
       "72511     Apr-2016\n",
       "63763     Apr-2015\n",
       "387297    Dec-2015\n",
       "227231    Sep-2011\n",
       "348725    May-2013\n",
       "Name: issue_d, Length: 155346, dtype: object"
      ]
     },
     "execution_count": 30,
     "metadata": {},
     "output_type": "execute_result"
    }
   ],
   "source": [
    "lend['issue_d']"
   ]
  },
  {
   "cell_type": "code",
   "execution_count": 31,
   "id": "192ac20f",
   "metadata": {},
   "outputs": [],
   "source": [
    "\n",
    "# Create a function named date that will convert any date column from object to datetime\n",
    "def date(x):\n",
    "    return pd.to_datetime(x)\n",
    "    "
   ]
  },
  {
   "cell_type": "code",
   "execution_count": 32,
   "id": "91dce899",
   "metadata": {},
   "outputs": [
    {
     "data": {
      "text/plain": [
       "4        2013-04-01\n",
       "25       2010-04-01\n",
       "26       2014-06-01\n",
       "36       2013-08-01\n",
       "41       2011-12-01\n",
       "            ...    \n",
       "72511    2016-04-01\n",
       "63763    2015-04-01\n",
       "387297   2015-12-01\n",
       "227231   2011-09-01\n",
       "348725   2013-05-01\n",
       "Name: issue_d, Length: 155346, dtype: datetime64[ns]"
      ]
     },
     "execution_count": 32,
     "metadata": {},
     "output_type": "execute_result"
    }
   ],
   "source": [
    "lend['issue_d']=lend['issue_d'].apply(date)\n",
    "lend['issue_d']"
   ]
  },
  {
   "cell_type": "code",
   "execution_count": 33,
   "id": "b2d349cc",
   "metadata": {},
   "outputs": [],
   "source": [
    "# Extract only the month name from the issued month\n",
    "lend['month_name']= lend['issue_d'].apply(lambda date:date.month_name())"
   ]
  },
  {
   "cell_type": "code",
   "execution_count": 34,
   "id": "ce0439de",
   "metadata": {},
   "outputs": [
    {
     "name": "stdout",
     "output_type": "stream",
     "text": [
      "\n",
      "-------------------------------------------------\n",
      "There are 12 unique items in the month_name column.\n",
      "The unique items and their respective counts are:\n",
      " October      16626\n",
      "July         15866\n",
      "January      13597\n",
      "April        13240\n",
      "November     13052\n",
      "August       12791\n",
      "May          12789\n",
      "March        12593\n",
      "June         11996\n",
      "February     11415\n",
      "December     10889\n",
      "September    10492\n",
      "Name: month_name, dtype: int64\n",
      "-------------------------------------------------\n"
     ]
    },
    {
     "data": {
      "image/png": "[encoded data removed]",
      "text/plain": [
       "<Figure size 810x450 with 1 Axes>"
      ]
     },
     "metadata": {
      "needs_background": "light"
     },
     "output_type": "display_data"
    }
   ],
   "source": [
    "# Find the number of loans given in each month\n",
    "explore(lend, \"month_name\")"
   ]
  },
  {
   "cell_type": "markdown",
   "id": "87492bb8",
   "metadata": {},
   "source": [
    "Since the month in which a client is given a loan does not affect his/her ability to repay, the month inwhich the loan was granted will be removed from the dataset."
   ]
  },
  {
   "cell_type": "code",
   "execution_count": 35,
   "id": "f451d153",
   "metadata": {},
   "outputs": [],
   "source": [
    "# Remove the issue_d and month_name from the data set\n",
    "lend=lend.drop([\"issue_d\",\"month_name\"],axis=1)"
   ]
  },
  {
   "cell_type": "code",
   "execution_count": 36,
   "id": "d484bdee",
   "metadata": {},
   "outputs": [
    {
     "data": {
      "text/plain": [
       "Index(['term', 'sub_grade', 'emp_length', 'home_ownership',\n",
       "       'verification_status', 'purpose', 'title', 'earliest_cr_line',\n",
       "       'initial_list_status', 'application_type', 'address'],\n",
       "      dtype='object')"
      ]
     },
     "execution_count": 36,
     "metadata": {},
     "output_type": "execute_result"
    }
   ],
   "source": [
    "# Let me check to find out the columns of the object data types again\n",
    "lend.select_dtypes(\"object\").columns"
   ]
  },
  {
   "cell_type": "markdown",
   "id": "c823f7b6",
   "metadata": {},
   "source": [
    "#### Purpose"
   ]
  },
  {
   "cell_type": "code",
   "execution_count": 37,
   "id": "75554524",
   "metadata": {},
   "outputs": [
    {
     "name": "stdout",
     "output_type": "stream",
     "text": [
      "\n",
      "-------------------------------------------------\n",
      "There are 14 unique items in the purpose column.\n",
      "The unique items and their respective counts are:\n",
      " debt_consolidation    94117\n",
      "credit_card           30572\n",
      "home_improvement       8966\n",
      "other                  8598\n",
      "major_purchase         3278\n",
      "small_business         2665\n",
      "medical                1713\n",
      "car                    1607\n",
      "moving                 1181\n",
      "vacation                945\n",
      "house                   880\n",
      "wedding                 598\n",
      "renewable_energy        137\n",
      "educational              89\n",
      "Name: purpose, dtype: int64\n",
      "-------------------------------------------------\n"
     ]
    },
    {
     "data": {
      "image/png": "[encoded data removed]",
      "text/plain": [
       "<Figure size 810x450 with 1 Axes>"
      ]
     },
     "metadata": {
      "needs_background": "light"
     },
     "output_type": "display_data"
    }
   ],
   "source": [
    "#Find the summary of purpose column\n",
    "explore(lend, \"purpose\")"
   ]
  },
  {
   "cell_type": "markdown",
   "id": "d21fe974",
   "metadata": {},
   "source": [
    "The bar graph for purpose column indicates more clients who got loans for credit card purpose paid back their loans than those who charged off at 16,818 and 13,874 respectively. Those who got loans for home improvement purpose had majority (4836) pay back their loan than those who charged off (4087). However, those who got loans for debt consolidation purpose had more people charging off (48,640) than those who fully paid (45,334)."
   ]
  },
  {
   "cell_type": "markdown",
   "id": "941bb21d",
   "metadata": {},
   "source": [
    "since those who got loan for educational, vacation, renewable energy, car, moving and wedding are small in number, I will add them to the other category. I will also madd house to home improvement."
   ]
  },
  {
   "cell_type": "code",
   "execution_count": 38,
   "id": "9d672b38",
   "metadata": {},
   "outputs": [],
   "source": [
    "lend['purpose'] = lend['purpose'].replace([\"educational\",\"vacation\",\"car\",\"moving\",\"wedding\"],\"other\")\n",
    "\n",
    "# Add house to home improvement\n",
    "lend[\"purpose\"] = lend['purpose'].replace(\"house\", \"home_improvement\")\n",
    "\n",
    "# Add renewable energy to major purchase\n",
    "lend['purpose'] = lend['purpose'].replace(\"renewable_energy\",\"major_purchase\")"
   ]
  },
  {
   "cell_type": "markdown",
   "id": "a4dd7060",
   "metadata": {},
   "source": [
    "#### Title"
   ]
  },
  {
   "cell_type": "code",
   "execution_count": 39,
   "id": "a670edc7",
   "metadata": {},
   "outputs": [
    {
     "data": {
      "text/plain": [
       "20179"
      ]
     },
     "execution_count": 39,
     "metadata": {},
     "output_type": "execute_result"
    }
   ],
   "source": [
    "# Find the number of unique items in the title column\n",
    "lend['title'].nunique()"
   ]
  },
  {
   "cell_type": "markdown",
   "id": "2e9627ec",
   "metadata": {},
   "source": [
    "Since the title column has so many categories (20,276), the title will be removed as well"
   ]
  },
  {
   "cell_type": "code",
   "execution_count": 40,
   "id": "2b38dc90",
   "metadata": {},
   "outputs": [],
   "source": [
    "# Remove the title column from the data set\n",
    "lend = lend.drop(\"title\",axis=1)"
   ]
  },
  {
   "cell_type": "markdown",
   "id": "1e8ac631",
   "metadata": {},
   "source": [
    "#### earliest_cr_line\n",
    "[Return to outline of tasks](#Outline-of-tasks)"
   ]
  },
  {
   "cell_type": "code",
   "execution_count": 41,
   "id": "6dff3f9e",
   "metadata": {},
   "outputs": [
    {
     "data": {
      "text/plain": [
       "4         Mar-1999\n",
       "25        Oct-2003\n",
       "26        Jun-2004\n",
       "36        Jun-2009\n",
       "41        Dec-1988\n",
       "            ...   \n",
       "72511     Jul-2000\n",
       "63763     Dec-1996\n",
       "387297    May-2004\n",
       "227231    Sep-2001\n",
       "348725    Feb-1993\n",
       "Name: earliest_cr_line, Length: 155346, dtype: object"
      ]
     },
     "execution_count": 41,
     "metadata": {},
     "output_type": "execute_result"
    }
   ],
   "source": [
    "lend['earliest_cr_line']"
   ]
  },
  {
   "cell_type": "code",
   "execution_count": 42,
   "id": "11e93bbf",
   "metadata": {},
   "outputs": [
    {
     "data": {
      "text/plain": [
       "4        1999-03-01\n",
       "25       2003-10-01\n",
       "26       2004-06-01\n",
       "36       2009-06-01\n",
       "41       1988-12-01\n",
       "            ...    \n",
       "72511    2000-07-01\n",
       "63763    1996-12-01\n",
       "387297   2004-05-01\n",
       "227231   2001-09-01\n",
       "348725   1993-02-01\n",
       "Name: earliest_cr_line, Length: 155346, dtype: datetime64[ns]"
      ]
     },
     "execution_count": 42,
     "metadata": {},
     "output_type": "execute_result"
    }
   ],
   "source": [
    "# Convert the object data type to datetime\n",
    "lend['earliest_cr_line']=lend['earliest_cr_line'].apply(date)\n",
    "lend['earliest_cr_line']"
   ]
  },
  {
   "cell_type": "code",
   "execution_count": 43,
   "id": "8ba540bb",
   "metadata": {},
   "outputs": [],
   "source": [
    "# Extract the year from the earliest_cr_line and replace it to earliest_cr_line\n",
    "lend['earliest_cr_line']=lend['earliest_cr_line'].apply(lambda date:date.year)"
   ]
  },
  {
   "cell_type": "code",
   "execution_count": 44,
   "id": "0798369f",
   "metadata": {},
   "outputs": [
    {
     "data": {
      "text/plain": [
       "Index(['term', 'sub_grade', 'emp_length', 'home_ownership',\n",
       "       'verification_status', 'purpose', 'initial_list_status',\n",
       "       'application_type', 'address'],\n",
       "      dtype='object')"
      ]
     },
     "execution_count": 44,
     "metadata": {},
     "output_type": "execute_result"
    }
   ],
   "source": [
    "# Let me check to find out the columns of the object data types again\n",
    "lend.select_dtypes(\"object\").columns"
   ]
  },
  {
   "cell_type": "markdown",
   "id": "f0c692ef",
   "metadata": {},
   "source": [
    "#### initial_list_status"
   ]
  },
  {
   "cell_type": "code",
   "execution_count": 45,
   "id": "6f16a43e",
   "metadata": {},
   "outputs": [
    {
     "name": "stdout",
     "output_type": "stream",
     "text": [
      "-------------------------------------------------\n",
      "There are 2 unique items in the initial_list_status column.\n",
      "The unique items and their respective counts are:\n",
      " f    92949\n",
      "w    62397\n",
      "Name: initial_list_status, dtype: int64\n",
      "-------------------------------------------------\n",
      "\n"
     ]
    },
    {
     "data": {
      "image/png": "[encoded data removed]",
      "text/plain": [
       "<Figure size 450x450 with 1 Axes>"
      ]
     },
     "metadata": {
      "needs_background": "light"
     },
     "output_type": "display_data"
    }
   ],
   "source": [
    "explore(lend,'initial_list_status')"
   ]
  },
  {
   "cell_type": "markdown",
   "id": "10deefe4",
   "metadata": {},
   "source": [
    "The initial list status summary shows  those who were listed f turned to have more people (46,837) paying back their loan than those who charged off at 45961. Those with initial listing of W had slightly more people (31,712) charging off than those who fully paid at 30836."
   ]
  },
  {
   "cell_type": "code",
   "execution_count": null,
   "id": "20b8562c",
   "metadata": {},
   "outputs": [],
   "source": []
  },
  {
   "cell_type": "markdown",
   "id": "786b4479",
   "metadata": {},
   "source": [
    "#### application_type"
   ]
  },
  {
   "cell_type": "code",
   "execution_count": 46,
   "id": "5408c625",
   "metadata": {},
   "outputs": [
    {
     "name": "stdout",
     "output_type": "stream",
     "text": [
      "-------------------------------------------------\n",
      "There are 3 unique items in the application_type column.\n",
      "The unique items and their respective counts are:\n",
      " INDIVIDUAL    155068\n",
      "DIRECT_PAY       146\n",
      "JOINT            132\n",
      "Name: application_type, dtype: int64\n",
      "-------------------------------------------------\n",
      "\n"
     ]
    },
    {
     "data": {
      "image/png": "[encoded data removed]",
      "text/plain": [
       "<Figure size 450x450 with 1 Axes>"
      ]
     },
     "metadata": {
      "needs_background": "light"
     },
     "output_type": "display_data"
    }
   ],
   "source": [
    "explore(lend, \"application_type\")"
   ]
  },
  {
   "cell_type": "markdown",
   "id": "cf714fd0",
   "metadata": {},
   "source": [
    "From the above summary, majority (155,050) of the clients went in for the loan individually whiles 150 of them went in as joint group and 146 of them applied as direct pay. Those who went for the loans individually had slightly more people (77,533) fully paying their loans than those who charged off. Also, 96 of those who applied as joint fully paid the loan as against 54 who charged off. However, 102 of those who applied as Direct Pay charged off whiles 44 of them fully paid."
   ]
  },
  {
   "cell_type": "markdown",
   "id": "582cab41",
   "metadata": {},
   "source": [
    "#### Address"
   ]
  },
  {
   "cell_type": "code",
   "execution_count": 47,
   "id": "714925c7",
   "metadata": {},
   "outputs": [
    {
     "data": {
      "text/plain": [
       "4                    679 Luna Roads\\r\\nGreggshire, VA 11650\n",
       "25        44130 Powers Course Suite 880\\r\\nEast Preston,...\n",
       "26                       Unit 3166 Box 1862\\r\\nDPO AE 48052\n",
       "36              361 Erica Forest\\r\\nLake Mariaton, TN 30723\n",
       "41        5836 Garcia Falls Apt. 525\\r\\nMatthewtown, CT ...\n",
       "                                ...                        \n",
       "72511     242 Kimberly Mountain Apt. 204\\r\\nEast Thomas,...\n",
       "63763                    Unit 1131 Box 3732\\r\\nDPO AP 30723\n",
       "387297           16693 Payne Knolls\\r\\nPort Jacob, PA 05113\n",
       "227231                            USS Young\\r\\nFPO AE 29597\n",
       "348725                309 Deleon Park\\r\\nLisabury, UT 29597\n",
       "Name: address, Length: 155346, dtype: object"
      ]
     },
     "execution_count": 47,
     "metadata": {},
     "output_type": "execute_result"
    }
   ],
   "source": [
    "# Have a look of the address column\n",
    "lend[\"address\"]"
   ]
  },
  {
   "cell_type": "code",
   "execution_count": 48,
   "id": "26b82bd8",
   "metadata": {},
   "outputs": [],
   "source": [
    "# Now let me extract the state from the given address and store it as state\n",
    "lend['state']=lend[\"address\"].str.split(',').str.get(1).str.lstrip().str.split(\" \").str.get(0).str.lstrip().str.rstrip()"
   ]
  },
  {
   "cell_type": "code",
   "execution_count": 49,
   "id": "f7b3821f",
   "metadata": {},
   "outputs": [
    {
     "data": {
      "text/plain": [
       "52"
      ]
     },
     "execution_count": 49,
     "metadata": {},
     "output_type": "execute_result"
    }
   ],
   "source": [
    "# Find the number of unique categories in the state column\n",
    "lend['state'].nunique()"
   ]
  },
  {
   "cell_type": "markdown",
   "id": "8f272c1f",
   "metadata": {},
   "source": [
    "52 unique categories in the state column are so many to be included in the model."
   ]
  },
  {
   "cell_type": "code",
   "execution_count": 50,
   "id": "b5640b58",
   "metadata": {},
   "outputs": [],
   "source": [
    "# Remove state and address from the data set\n",
    "lend = lend.drop([\"address\",\"state\"],axis=1)"
   ]
  },
  {
   "cell_type": "code",
   "execution_count": 51,
   "id": "a224af9c",
   "metadata": {},
   "outputs": [
    {
     "data": {
      "text/plain": [
       "Index(['term', 'sub_grade', 'emp_length', 'home_ownership',\n",
       "       'verification_status', 'purpose', 'initial_list_status',\n",
       "       'application_type'],\n",
       "      dtype='object')"
      ]
     },
     "execution_count": 51,
     "metadata": {},
     "output_type": "execute_result"
    }
   ],
   "source": [
    "# Find the columns with object data types left for the next data preprocessing\n",
    "lend.select_dtypes(\"object\").columns"
   ]
  },
  {
   "cell_type": "markdown",
   "id": "3c7233fb",
   "metadata": {},
   "source": [
    "## Dealing with Missing Values\n",
    "[Return to outline of task](#Outline-of-tasks)"
   ]
  },
  {
   "cell_type": "code",
   "execution_count": 52,
   "id": "4a626957",
   "metadata": {},
   "outputs": [
    {
     "data": {
      "text/plain": [
       "term                        0\n",
       "int_rate                    0\n",
       "installment                 0\n",
       "sub_grade                   0\n",
       "emp_length               8275\n",
       "home_ownership              0\n",
       "annual_inc                  0\n",
       "verification_status         0\n",
       "loan_status                 0\n",
       "purpose                     0\n",
       "dti                         0\n",
       "earliest_cr_line            0\n",
       "open_acc                    0\n",
       "pub_rec                     0\n",
       "revol_bal                   0\n",
       "revol_util                120\n",
       "total_acc                   0\n",
       "initial_list_status         0\n",
       "application_type            0\n",
       "mort_acc                13453\n",
       "pub_rec_bankruptcies      207\n",
       "dtype: int64"
      ]
     },
     "execution_count": 52,
     "metadata": {},
     "output_type": "execute_result"
    }
   ],
   "source": [
    "# Find the number of missing values in each column\n",
    "lend.isna().sum()"
   ]
  },
  {
   "cell_type": "code",
   "execution_count": 53,
   "id": "4e9290c5",
   "metadata": {},
   "outputs": [
    {
     "data": {
      "text/plain": [
       "mort_acc                8.660023\n",
       "emp_length              5.326819\n",
       "pub_rec_bankruptcies    0.133251\n",
       "revol_util              0.077247\n",
       "earliest_cr_line        0.000000\n",
       "application_type        0.000000\n",
       "initial_list_status     0.000000\n",
       "total_acc               0.000000\n",
       "revol_bal               0.000000\n",
       "pub_rec                 0.000000\n",
       "open_acc                0.000000\n",
       "term                    0.000000\n",
       "int_rate                0.000000\n",
       "purpose                 0.000000\n",
       "loan_status             0.000000\n",
       "verification_status     0.000000\n",
       "annual_inc              0.000000\n",
       "home_ownership          0.000000\n",
       "sub_grade               0.000000\n",
       "installment             0.000000\n",
       "dti                     0.000000\n",
       "dtype: float64"
      ]
     },
     "execution_count": 53,
     "metadata": {},
     "output_type": "execute_result"
    }
   ],
   "source": [
    "# Find the percentage of the number of missing values\n",
    "100*(lend.isna().sum()/len(lend)).sort_values(ascending=False)"
   ]
  },
  {
   "cell_type": "markdown",
   "id": "66774fb3",
   "metadata": {},
   "source": [
    "#### Dealing with missing values in the pub_rec_bankruptcies  and revol_util columns "
   ]
  },
  {
   "cell_type": "code",
   "execution_count": 54,
   "id": "1f7126f6",
   "metadata": {},
   "outputs": [],
   "source": [
    "# Remove the missing values \n",
    "lend.dropna(subset=['pub_rec_bankruptcies','revol_util'],inplace=True)"
   ]
  },
  {
   "cell_type": "code",
   "execution_count": 55,
   "id": "23679f9c",
   "metadata": {},
   "outputs": [],
   "source": [
    "###### Dealing with missing values in emp_length"
   ]
  },
  {
   "cell_type": "code",
   "execution_count": 56,
   "id": "1b280aea",
   "metadata": {},
   "outputs": [
    {
     "data": {
      "text/plain": [
       "10+ years    32.84\n",
       "2 years       9.56\n",
       "< 1 year      8.62\n",
       "3 years       8.45\n",
       "5 years       6.98\n",
       "1 year        6.92\n",
       "4 years       6.28\n",
       "6 years       5.55\n",
       "7 years       5.54\n",
       "8 years       5.14\n",
       "9 years       4.13\n",
       "Name: emp_length, dtype: float64"
      ]
     },
     "execution_count": 56,
     "metadata": {},
     "output_type": "execute_result"
    }
   ],
   "source": [
    "# find the percentage of the value counts of each category \n",
    "lend[\"emp_length\"].value_counts(normalize=True).mul(100).round(2)"
   ]
  },
  {
   "cell_type": "code",
   "execution_count": 57,
   "id": "5f35ff00",
   "metadata": {},
   "outputs": [],
   "source": [
    "# Fill the missing values with 10+ years\n",
    "lend['emp_length'] = lend[\"emp_length\"].fillna(\"10+ years\")"
   ]
  },
  {
   "cell_type": "markdown",
   "id": "10cc7976",
   "metadata": {},
   "source": [
    "##### Dealing with missing values in mort_acc\n",
    "Since the mort_acc has strong relationshiop with loan status, and the missing number is not up to 10% of the total number of rows, I will not remove it from the data set."
   ]
  },
  {
   "cell_type": "code",
   "execution_count": 58,
   "id": "3eaf75b9",
   "metadata": {},
   "outputs": [
    {
     "data": {
      "text/plain": [
       "0.0     41.67\n",
       "1.0     16.83\n",
       "2.0     13.57\n",
       "3.0      9.98\n",
       "4.0      7.26\n",
       "5.0      4.71\n",
       "6.0      2.83\n",
       "7.0      1.52\n",
       "8.0      0.76\n",
       "9.0      0.40\n",
       "10.0     0.20\n",
       "11.0     0.11\n",
       "12.0     0.07\n",
       "13.0     0.03\n",
       "14.0     0.02\n",
       "15.0     0.01\n",
       "16.0     0.01\n",
       "17.0     0.01\n",
       "19.0     0.00\n",
       "20.0     0.00\n",
       "18.0     0.00\n",
       "22.0     0.00\n",
       "21.0     0.00\n",
       "26.0     0.00\n",
       "23.0     0.00\n",
       "32.0     0.00\n",
       "24.0     0.00\n",
       "Name: mort_acc, dtype: float64"
      ]
     },
     "execution_count": 58,
     "metadata": {},
     "output_type": "execute_result"
    }
   ],
   "source": [
    "# Find the overvies of mort_acc\n",
    "lend['mort_acc'].value_counts(normalize=True).mul(100).round(2)"
   ]
  },
  {
   "cell_type": "code",
   "execution_count": 59,
   "id": "fddf6e60",
   "metadata": {},
   "outputs": [],
   "source": [
    "# Fill the missing values in the mort_acc with 0\n",
    "lend[\"mort_acc\"] = lend['mort_acc'].fillna(0)"
   ]
  },
  {
   "cell_type": "code",
   "execution_count": 60,
   "id": "7ff2bc46",
   "metadata": {},
   "outputs": [
    {
     "data": {
      "text/plain": [
       "term                    0\n",
       "int_rate                0\n",
       "installment             0\n",
       "sub_grade               0\n",
       "emp_length              0\n",
       "home_ownership          0\n",
       "annual_inc              0\n",
       "verification_status     0\n",
       "loan_status             0\n",
       "purpose                 0\n",
       "dti                     0\n",
       "earliest_cr_line        0\n",
       "open_acc                0\n",
       "pub_rec                 0\n",
       "revol_bal               0\n",
       "revol_util              0\n",
       "total_acc               0\n",
       "initial_list_status     0\n",
       "application_type        0\n",
       "mort_acc                0\n",
       "pub_rec_bankruptcies    0\n",
       "dtype: int64"
      ]
     },
     "execution_count": 60,
     "metadata": {},
     "output_type": "execute_result"
    }
   ],
   "source": [
    "# Now Find the if there exist any missing values\n",
    "lend.isna().sum()"
   ]
  },
  {
   "cell_type": "markdown",
   "id": "58e14c57",
   "metadata": {},
   "source": [
    "## Prepare the data for modeling\n",
    "[Return to outline of task](#Outline-of-tasks)"
   ]
  },
  {
   "cell_type": "code",
   "execution_count": null,
   "id": "4bd2d0c9",
   "metadata": {},
   "outputs": [],
   "source": []
  },
  {
   "cell_type": "markdown",
   "id": "3d03521d",
   "metadata": {},
   "source": [
    "### Notice:\n",
    "Since the data is huge for my computer to run the cross validation, I will choose only 25% of the of the lend data."
   ]
  },
  {
   "cell_type": "code",
   "execution_count": 61,
   "id": "37a086c4",
   "metadata": {},
   "outputs": [
    {
     "data": {
      "text/plain": [
       "(38755, 21)"
      ]
     },
     "execution_count": 61,
     "metadata": {},
     "output_type": "execute_result"
    }
   ],
   "source": [
    "# select only 25% of the lend data and store it as lend\n",
    "lend = lend.sample(frac=.25)\n",
    "\n",
    "# Find the total number of rows and columns of the reduced data\n",
    "lend.shape"
   ]
  },
  {
   "cell_type": "code",
   "execution_count": 62,
   "id": "d1b57fee",
   "metadata": {},
   "outputs": [],
   "source": [
    "# Define the features and store them as x\n",
    "x= lend.drop('loan_status',axis=1)\n",
    "\n",
    "# Define the label and store it as y\n",
    "y = lend['loan_status']"
   ]
  },
  {
   "cell_type": "code",
   "execution_count": 63,
   "id": "2f9a2ae9",
   "metadata": {},
   "outputs": [],
   "source": [
    "# Convert the categorical data to dummy variables\n",
    "x = pd.get_dummies(x,drop_first=True)"
   ]
  },
  {
   "cell_type": "code",
   "execution_count": 64,
   "id": "a363f4c5",
   "metadata": {},
   "outputs": [
    {
     "data": {
      "text/plain": [
       "70"
      ]
     },
     "execution_count": 64,
     "metadata": {},
     "output_type": "execute_result"
    }
   ],
   "source": [
    "len(x.columns)"
   ]
  },
  {
   "cell_type": "markdown",
   "id": "6b7f91e7",
   "metadata": {},
   "source": [
    "##### Split the data to train,validate and test"
   ]
  },
  {
   "cell_type": "code",
   "execution_count": 65,
   "id": "e1d47d9c",
   "metadata": {},
   "outputs": [],
   "source": [
    "# Split the data to train and validation data\n",
    "x_train,x_validation, y_train, y_validation = train_test_split(x,y,test_size=0.2,stratify=y, random_state=42,)"
   ]
  },
  {
   "cell_type": "code",
   "execution_count": 66,
   "id": "3d258651",
   "metadata": {},
   "outputs": [],
   "source": [
    "# Split the data to validation and test data\n",
    "x_validation, x_test, y_validation, y_test = train_test_split(x_validation,y_validation, test_size=0.5,stratify=y_validation, random_state=42)"
   ]
  },
  {
   "cell_type": "markdown",
   "id": "c65a89e9",
   "metadata": {},
   "source": [
    "#### Scale the data\n"
   ]
  },
  {
   "cell_type": "code",
   "execution_count": 67,
   "id": "56939a08",
   "metadata": {},
   "outputs": [],
   "source": [
    "# Create an instantiation of the of the scaler\n",
    "scale = StandardScaler()\n",
    "# scale the train data\n",
    "x_scaled_train = scale.fit_transform(x_train)\n",
    "\n",
    "# scale the validation data\n",
    "x_scaled_validation = scale.transform(x_validation)\n",
    "\n",
    "# scale the test data\n",
    "x_scaled_test = scale.transform(x_test)"
   ]
  },
  {
   "cell_type": "code",
   "execution_count": 68,
   "id": "a83dad11",
   "metadata": {},
   "outputs": [],
   "source": [
    "# # Using the MinMaxscaler\n",
    "# scaler = MinMaxScaler()\n",
    "\n",
    "# x_scaler_train = scaler.fit_transform(x_train)\n",
    "\n",
    "# x_scaler_validation = scaler.transform(x_validation)\n",
    "\n",
    "# x_scaler_test = scaler.transform(x_test)"
   ]
  },
  {
   "cell_type": "code",
   "execution_count": null,
   "id": "d55b0058",
   "metadata": {},
   "outputs": [],
   "source": []
  },
  {
   "cell_type": "markdown",
   "id": "a8364cb7",
   "metadata": {},
   "source": [
    "### Creating the machine learning models\n",
    "[Return to outline of tasks](#Outline-of-tasks)\n",
    "\n",
    "Since Decision Tree and ensemble methods do not need to be scaled, I will not scale the train data. I will be using decision tree and the ensemble methods since the objective is not only to find the best model but also to find the important features in determing the model used."
   ]
  },
  {
   "cell_type": "markdown",
   "id": "444fe60f",
   "metadata": {},
   "source": [
    "### Decision Tree Classifier "
   ]
  },
  {
   "cell_type": "code",
   "execution_count": 69,
   "id": "77ebae83",
   "metadata": {},
   "outputs": [],
   "source": [
    "# Instantiate the decisiontreeclassifier\n",
    "dt = DecisionTreeClassifier(random_state=130)"
   ]
  },
  {
   "cell_type": "code",
   "execution_count": 70,
   "id": "347cd9c0",
   "metadata": {},
   "outputs": [
    {
     "name": "stdout",
     "output_type": "stream",
     "text": [
      "------------------------------\n",
      "Train set score: 1.000\n",
      "Validation set score: 0.564\n",
      "F1 score: 0.567\n",
      "-------------------------------\n"
     ]
    }
   ],
   "source": [
    "# fit model to the train data\n",
    "dt.fit(x_scaled_train, y_train)\n",
    "\n",
    "# Make prediction using the x_validation data\n",
    "dt_pred = dt.predict(x_scaled_validation)\n",
    "\n",
    "print(\"------------------------------\")\n",
    "# Find the score of the train scaled data\n",
    "print(\"Train set score: {:.3f}\" .format(dt.score(x_scaled_train, y_train)))\n",
    "print(\"Validation set score: {:.3f}\" .format(dt.score(x_scaled_validation,y_validation)))\n",
    "# Find the accuracy score\n",
    "# print(\"Accuracy score: {:.3f}\".format(accuracy_score(y_validation,pred)))\n",
    "# Find the F1_score\n",
    "print(\"F1 score: {:.3f}\".format(f1_score(y_validation,dt_pred)))\n",
    "print(\"-------------------------------\")"
   ]
  },
  {
   "cell_type": "code",
   "execution_count": 71,
   "id": "be513070",
   "metadata": {},
   "outputs": [
    {
     "name": "stdout",
     "output_type": "stream",
     "text": [
      "============================================================\n",
      "              precision    recall  f1-score   support\n",
      "\n",
      "           0       0.57      0.56      0.56      1937\n",
      "           1       0.56      0.57      0.57      1938\n",
      "\n",
      "    accuracy                           0.56      3875\n",
      "   macro avg       0.56      0.56      0.56      3875\n",
      "weighted avg       0.56      0.56      0.56      3875\n",
      "\n",
      "============================================================\n",
      "\n"
     ]
    },
    {
     "data": {
      "image/png": "[encoded data removed]",
      "text/plain": [
       "<Figure size 432x288 with 2 Axes>"
      ]
     },
     "metadata": {
      "needs_background": "light"
     },
     "output_type": "display_data"
    }
   ],
   "source": [
    "print(\"============================================================\")\n",
    "# Show the classification report of the raw adaboost\n",
    "print(classification_report(y_validation,dt_pred))\n",
    "print(\"============================================================\")\n",
    "print()\n",
    "# Display the Confusion Matrix\n",
    "ConfusionMatrixDisplay.from_predictions(y_validation, dt_pred)\n",
    "# Title the confusion matrix\n",
    "plt.title(\"Confusion Matrix\",size=14,pad=2)\n",
    "# label the x-axis\n",
    "plt.xlabel(\"Predicted Label\",size=12)\n",
    "# label the y axis\n",
    "plt.ylabel(\"True Label\", size=12)\n",
    "# Display the plot\n",
    "plt.show()"
   ]
  },
  {
   "cell_type": "markdown",
   "id": "1bc4665e",
   "metadata": {},
   "source": [
    "From the confusion matrix display, decision tree classifier rightly predicted 1082 clients charged off whiles it wrongly predicted 833 charged off who actually paid their loan. Again, the model rightly predicted 1105 clients fully paid their loan but wrongly predicted 855 clients fully paid who actually charged off."
   ]
  },
  {
   "cell_type": "code",
   "execution_count": null,
   "id": "69e782da",
   "metadata": {},
   "outputs": [],
   "source": []
  },
  {
   "cell_type": "markdown",
   "id": "ccc6af04",
   "metadata": {},
   "source": [
    "### Random Forest"
   ]
  },
  {
   "cell_type": "code",
   "execution_count": 72,
   "id": "955c1d3e",
   "metadata": {},
   "outputs": [
    {
     "name": "stdout",
     "output_type": "stream",
     "text": [
      "------------------------------------\n",
      "The train set accuracy score: 1.000\n",
      "The validation set accuracy score: 0.652\n",
      "The f1-score: 0.650\n",
      "------------------------------------\n"
     ]
    }
   ],
   "source": [
    "# instantiate the random forest classifier model and store it as rf\n",
    "rf = RandomForestClassifier(random_state=42, n_estimators=130)\n",
    "\n",
    "# Fit the random forest model to the train data\n",
    "rf.fit(x_scaled_train,y_train)\n",
    "\n",
    "# Make prediction from the validation data\n",
    "rf_pred=rf.predict(x_scaled_validation)\n",
    "\n",
    "print(\"------------------------------------\")\n",
    "# Find the train data set\n",
    "print(\"The train set accuracy score: {:.3f}\".format(rf.score(x_scaled_train, y_train)))\n",
    "# Find the validation data set\n",
    "print(\"The validation set accuracy score: {:.3f}\".format(rf.score(x_scaled_validation, y_validation)))\n",
    "# Find the accuracy.\n",
    "# print(\"The accauracy score: {:.3f}\" .format(accuracy_score(y_validation, pred)))\n",
    "# Find the F1_score\n",
    "print(\"The f1-score: {:.3f}\".format(f1_score(y_validation,rf_pred)))\n",
    "print(\"------------------------------------\")"
   ]
  },
  {
   "cell_type": "code",
   "execution_count": 73,
   "id": "ebd35bbb",
   "metadata": {},
   "outputs": [
    {
     "name": "stdout",
     "output_type": "stream",
     "text": [
      "============================================================\n",
      "              precision    recall  f1-score   support\n",
      "\n",
      "           0       0.65      0.66      0.65      1937\n",
      "           1       0.65      0.65      0.65      1938\n",
      "\n",
      "    accuracy                           0.65      3875\n",
      "   macro avg       0.65      0.65      0.65      3875\n",
      "weighted avg       0.65      0.65      0.65      3875\n",
      "\n",
      "============================================================\n",
      "\n"
     ]
    },
    {
     "data": {
      "image/png": "[encoded data removed]",
      "text/plain": [
       "<Figure size 432x288 with 2 Axes>"
      ]
     },
     "metadata": {
      "needs_background": "light"
     },
     "output_type": "display_data"
    }
   ],
   "source": [
    "print(\"============================================================\")\n",
    "# Show the classification report of the raw adaboost\n",
    "print(classification_report(y_validation,rf_pred))\n",
    "print(\"============================================================\")\n",
    "print()\n",
    "# Display the Confusion Matrix\n",
    "ConfusionMatrixDisplay.from_predictions(y_validation, rf_pred)\n",
    "# Title the confusion matrix\n",
    "plt.title(\"Confusion Matrix\",size=14)\n",
    "# label the x-axis\n",
    "plt.xlabel(\"Predicted Label\",size=12)\n",
    "# label the y axis\n",
    "plt.ylabel(\"True Label\", size=12)\n",
    "# Display the plot\n",
    "plt.show()"
   ]
  },
  {
   "cell_type": "markdown",
   "id": "447e535b",
   "metadata": {},
   "source": [
    "From the confusion matrix display, Random Forest classifier rightly predicted 1272 clients charged off whiles it wrongly predicted 685 charged off who actually paid their loan. Moreover, the model rightly predicted 1253 clients fully paid their loan but wrongly predicted 665 clients fully paid who actually charged off."
   ]
  },
  {
   "cell_type": "code",
   "execution_count": null,
   "id": "af2a9a3c",
   "metadata": {},
   "outputs": [],
   "source": []
  },
  {
   "cell_type": "markdown",
   "id": "964114a3",
   "metadata": {},
   "source": [
    "#### Hyperparameter tuning for the Random Forest"
   ]
  },
  {
   "cell_type": "code",
   "execution_count": 74,
   "id": "25d7c585",
   "metadata": {},
   "outputs": [
    {
     "name": "stdout",
     "output_type": "stream",
     "text": [
      "Best parameters: {'max_depth': 15, 'max_features': 12, 'n_estimators': 150}\n",
      "----------------------------\n",
      "The train set: 0.847\n",
      "The validation set: 0.649\n",
      "The accauracy score: 0.649\n",
      "The f1-score: 0.652\n",
      "----------------------------\n"
     ]
    }
   ],
   "source": [
    "# List the parameters to be tuned using the gridsearchcv and store it as params\n",
    "params = {\"n_estimators\":[70,100,130,150],\n",
    "         \"max_depth\":[5,8,13,15,None],\n",
    "         \"max_features\":[8,10,12]}\n",
    "\n",
    "# Instatiate the GridSearchCV\n",
    "grid_rf = GridSearchCV(estimator=rf, param_grid=params,cv=5)\n",
    "\n",
    "# Fit the gridsearch to the train data\n",
    "grid_rf.fit(x_scaled_train, y_train)\n",
    "\n",
    "# Find the best parameters\n",
    "print(\"Best parameters:\", grid_rf.best_params_)\n",
    "\n",
    "# Make prediction from the best parameters\n",
    "gridrf_pred = grid_rf.predict(x_scaled_validation)\n",
    "\n",
    "print(\"----------------------------\")\n",
    "# Find the train data set\n",
    "print(\"The train set: {:.3f}\".format(grid_rf.score(x_scaled_train, y_train)))\n",
    "# Find the validation data set\n",
    "print(\"The validation set: {:.3f}\".format(grid_rf.score(x_scaled_validation, y_validation)))\n",
    "# Find the accuracy.\n",
    "print(\"The accauracy score: {:.3f}\" .format(accuracy_score(y_validation, gridrf_pred)))\n",
    "# Find the F1_score\n",
    "print(\"The f1-score: {:.3f}\".format(f1_score(y_validation,gridrf_pred)))\n",
    "print(\"----------------------------\")"
   ]
  },
  {
   "cell_type": "code",
   "execution_count": 75,
   "id": "e08efb90",
   "metadata": {},
   "outputs": [
    {
     "name": "stdout",
     "output_type": "stream",
     "text": [
      "============================================================\n",
      "              precision    recall  f1-score   support\n",
      "\n",
      "           0       0.65      0.64      0.65      1937\n",
      "           1       0.65      0.66      0.65      1938\n",
      "\n",
      "    accuracy                           0.65      3875\n",
      "   macro avg       0.65      0.65      0.65      3875\n",
      "weighted avg       0.65      0.65      0.65      3875\n",
      "\n",
      "============================================================\n",
      "\n"
     ]
    },
    {
     "data": {
      "image/png": "[encoded data removed]",
      "text/plain": [
       "<Figure size 432x288 with 2 Axes>"
      ]
     },
     "metadata": {
      "needs_background": "light"
     },
     "output_type": "display_data"
    }
   ],
   "source": [
    "print(\"============================================================\")\n",
    "# Show the classification report of the raw adaboost\n",
    "print(classification_report(y_validation,gridrf_pred))\n",
    "print(\"============================================================\")\n",
    "print()\n",
    "# Display the Confusion Matrix\n",
    "ConfusionMatrixDisplay.from_predictions(y_validation, gridrf_pred)\n",
    "# Title the confusion matrix\n",
    "plt.title(\"Confusion Matrix\",size=14)\n",
    "# label the x-axis\n",
    "plt.xlabel(\"Predicted Label\",size=12)\n",
    "# label the y axis\n",
    "plt.ylabel(\"True Label\", size=12)\n",
    "# Display the plot\n",
    "plt.show()"
   ]
  },
  {
   "cell_type": "markdown",
   "id": "7eb6f1f9",
   "metadata": {},
   "source": [
    "After hyperparameter tuning, the confusion matrix display indicates that the Random Forest classifier rightly predicted 1241 clients charged off whiles it wrongly predicted 696 charged off who actually paid their loan. Again, the model rightly predicted  1274 clients fully paid their loan, but wrongly predicted 696 clients fully paid who actually charged off."
   ]
  },
  {
   "cell_type": "code",
   "execution_count": null,
   "id": "bdc0287f",
   "metadata": {},
   "outputs": [],
   "source": []
  },
  {
   "cell_type": "markdown",
   "id": "698c3926",
   "metadata": {},
   "source": [
    "### GradientBoosting"
   ]
  },
  {
   "cell_type": "code",
   "execution_count": 76,
   "id": "0895843a",
   "metadata": {},
   "outputs": [
    {
     "name": "stdout",
     "output_type": "stream",
     "text": [
      "----------------------------\n",
      "The train set accuracy score: 0.669\n",
      "The validation set accuracy score: 0.646\n",
      "The f1-score: 0.650\n",
      "----------------------------\n"
     ]
    }
   ],
   "source": [
    "# Instatiate GradientBoost classifier\n",
    "gb = GradientBoostingClassifier(random_state=130)\n",
    "\n",
    "# Fit the gb model to train data\n",
    "gb.fit(x_scaled_train, y_train)\n",
    "\n",
    "# make prediction using the validation data\n",
    "gb_pred = gb.predict(x_scaled_validation)\n",
    "\n",
    "print(\"----------------------------\")\n",
    "# Find the train data set\n",
    "print(\"The train set accuracy score: {:.3f}\".format(gb.score(x_scaled_train, y_train)))\n",
    "# Find the validation data set\n",
    "print(\"The validation set accuracy score: {:.3f}\".format(gb.score(x_scaled_validation, y_validation)))\n",
    "# Find the accuracy.\n",
    "# print(\"The accauracy score: {:.3f}\" .format(accuracy_score(y_validation, pred)))\n",
    "# Find the F1_score\n",
    "print(\"The f1-score: {:.3f}\".format(f1_score(y_validation,gb_pred)))\n",
    "print(\"----------------------------\")"
   ]
  },
  {
   "cell_type": "code",
   "execution_count": 77,
   "id": "3eab4466",
   "metadata": {},
   "outputs": [
    {
     "name": "stdout",
     "output_type": "stream",
     "text": [
      "============================================================\n",
      "              precision    recall  f1-score   support\n",
      "\n",
      "           0       0.65      0.63      0.64      1937\n",
      "           1       0.64      0.66      0.65      1938\n",
      "\n",
      "    accuracy                           0.65      3875\n",
      "   macro avg       0.65      0.65      0.65      3875\n",
      "weighted avg       0.65      0.65      0.65      3875\n",
      "\n",
      "============================================================\n",
      "\n"
     ]
    },
    {
     "data": {
      "image/png": "[encoded data removed]",
      "text/plain": [
       "<Figure size 432x288 with 2 Axes>"
      ]
     },
     "metadata": {
      "needs_background": "light"
     },
     "output_type": "display_data"
    }
   ],
   "source": [
    "print(\"============================================================\")\n",
    "# Show the classification report of the raw adaboost\n",
    "print(classification_report(y_validation,gb_pred))\n",
    "print(\"============================================================\")\n",
    "print()\n",
    "# Display the Confusion Matrix\n",
    "ConfusionMatrixDisplay.from_predictions(y_validation, gb_pred)\n",
    "# Title the confusion matrix\n",
    "plt.title(\"Confusion Matrix\",size=14)\n",
    "# label the x-axis\n",
    "plt.xlabel(\"Predicted Label\",size=12)\n",
    "# label the y axis\n",
    "plt.ylabel(\"True Label\", size=12)\n",
    "# Display the plot\n",
    "plt.show()"
   ]
  },
  {
   "cell_type": "markdown",
   "id": "1c5c3157",
   "metadata": {},
   "source": [
    "#### Hyperparameter tuning for GradientBoosting"
   ]
  },
  {
   "cell_type": "code",
   "execution_count": 78,
   "id": "dae800c6",
   "metadata": {},
   "outputs": [
    {
     "name": "stdout",
     "output_type": "stream",
     "text": [
      "The best parameters: {'learning_rate': 0.1, 'max_depth': 4, 'n_estimators': 128}\n",
      "----------------------------------\n",
      "The train set accuaracy score:  0.687\n",
      "The validation set accuracy score: 0.651\n",
      "The F1 score score: 0.652\n",
      "----------------------------------\n"
     ]
    }
   ],
   "source": [
    "# Set the parameters and store it as param\n",
    "param = {\"n_estimators\":[60, 80, 128, 150,200],\n",
    "        \"max_depth\":[2,3,4],\n",
    "        \"learning_rate\":[0.01, 0.1, 1, 2.5, 5]}\n",
    "\n",
    "# tune the hyperparameters using the gridsearch\n",
    "ggb = GridSearchCV(estimator=gb, param_grid=param, cv=5)\n",
    "\n",
    "# Fit the gridSearch to the train data\n",
    "ggb.fit(x_scaled_train, y_train)\n",
    "\n",
    "# Find the best parameters chosen\n",
    "print(\"The best parameters:\", ggb.best_params_)\n",
    "\n",
    "# make prediction using the validation data\n",
    "ggb_pred = ggb.predict(x_scaled_validation)\n",
    "\n",
    "\n",
    "# Find the train set score\n",
    "print(\"----------------------------------\")\n",
    "print(\"The train set accuaracy score: \",ggb.score(x_scaled_train, y_train).round(3))\n",
    "# Find the accuracy score\n",
    "print(\"The validation set accuracy score: {:.3f}\".format(ggb.score(x_scaled_validation, y_validation)))\n",
    "# Find the F1_score \n",
    "print(\"The F1 score score: {:.3f}\".format(f1_score(y_validation, ggb_pred)))\n",
    "print(\"----------------------------------\")"
   ]
  },
  {
   "cell_type": "code",
   "execution_count": null,
   "id": "96e8953a",
   "metadata": {},
   "outputs": [],
   "source": []
  },
  {
   "cell_type": "code",
   "execution_count": 80,
   "id": "38a7eb7a",
   "metadata": {},
   "outputs": [
    {
     "name": "stdout",
     "output_type": "stream",
     "text": [
      "============================================================\n",
      "              precision    recall  f1-score   support\n",
      "\n",
      "           0       0.65      0.65      0.65      1937\n",
      "           1       0.65      0.65      0.65      1938\n",
      "\n",
      "    accuracy                           0.65      3875\n",
      "   macro avg       0.65      0.65      0.65      3875\n",
      "weighted avg       0.65      0.65      0.65      3875\n",
      "\n",
      "============================================================\n",
      "\n"
     ]
    },
    {
     "data": {
      "image/png": "[encoded data removed]",
      "text/plain": [
       "<Figure size 432x288 with 2 Axes>"
      ]
     },
     "metadata": {
      "needs_background": "light"
     },
     "output_type": "display_data"
    }
   ],
   "source": [
    "print(\"============================================================\")\n",
    "# Show the classification report of the raw adaboost\n",
    "print(classification_report(y_validation,ggb_pred))\n",
    "print(\"============================================================\")\n",
    "print()\n",
    "# Display the Confusion Matrix\n",
    "ConfusionMatrixDisplay.from_predictions(y_validation, ggb_pred)\n",
    "# Title the confusion matrix\n",
    "plt.title(\"Confusion Matrix\",size=14)\n",
    "# label the x-axis\n",
    "plt.xlabel(\"Predicted Label\",size=12)\n",
    "# label the y axis\n",
    "plt.ylabel(\"True Label\", size=12)\n",
    "# Display the plot\n",
    "plt.show()"
   ]
  },
  {
   "cell_type": "code",
   "execution_count": null,
   "id": "9d5ec980",
   "metadata": {},
   "outputs": [],
   "source": []
  },
  {
   "cell_type": "markdown",
   "id": "dbe06057",
   "metadata": {},
   "source": [
    "### Adaptive Boost(AdaBoost)"
   ]
  },
  {
   "cell_type": "code",
   "execution_count": 81,
   "id": "823cc269",
   "metadata": {},
   "outputs": [
    {
     "name": "stdout",
     "output_type": "stream",
     "text": [
      "----------------------------\n",
      "The train score: 0.656\n",
      "The validation score: 0.637\n",
      "The F1 score is: 0.641\n",
      "----------------------------\n"
     ]
    }
   ],
   "source": [
    "# Instantiate the Adaboostclassifier and store it as ad\n",
    "ad = AdaBoostClassifier(random_state=130)\n",
    "\n",
    "# Fit the model\n",
    "ad.fit(x_scaled_train, y_train)\n",
    "\n",
    "# Make prediction using the x_validation data\n",
    "ad_pred = ad.predict(x_scaled_validation)\n",
    "\n",
    "print(\"----------------------------\")\n",
    "# Find the score of the train scaled data\n",
    "print(\"The train score: {:.3f}\" .format(ad.score(x_scaled_train, y_train)))\n",
    "print(\"The validation score: {:.3f}\" .format(ad.score(x_scaled_validation,y_validation)))\n",
    "# Find the F1_score\n",
    "print(\"The F1 score is: {:.3f}\".format(f1_score(y_validation,ad_pred)))\n",
    "print(\"----------------------------\")\n"
   ]
  },
  {
   "cell_type": "code",
   "execution_count": 82,
   "id": "5dac1783",
   "metadata": {},
   "outputs": [
    {
     "name": "stdout",
     "output_type": "stream",
     "text": [
      "============================================================\n",
      "              precision    recall  f1-score   support\n",
      "\n",
      "           0       0.64      0.62      0.63      1937\n",
      "           1       0.63      0.65      0.64      1938\n",
      "\n",
      "    accuracy                           0.64      3875\n",
      "   macro avg       0.64      0.64      0.64      3875\n",
      "weighted avg       0.64      0.64      0.64      3875\n",
      "\n",
      "============================================================\n",
      "\n"
     ]
    },
    {
     "data": {
      "image/png": "[encoded data removed]",
      "text/plain": [
       "<Figure size 432x288 with 2 Axes>"
      ]
     },
     "metadata": {
      "needs_background": "light"
     },
     "output_type": "display_data"
    }
   ],
   "source": [
    "print(\"============================================================\")\n",
    "# Show the classification report of the raw adaboost\n",
    "print(classification_report(y_validation,ad_pred))\n",
    "print(\"============================================================\")\n",
    "print()\n",
    "# Display the Confusion Matrix\n",
    "ConfusionMatrixDisplay.from_predictions(y_validation, ad_pred)\n",
    "# Title the confusion matrix\n",
    "plt.title(\"Confusion Matrix\",size=14)\n",
    "# label the x-axis\n",
    "plt.xlabel(\"Predicted Label\",size=12)\n",
    "# label the y axis\n",
    "plt.ylabel(\"True Label\", size=12)\n",
    "# Display the plot\n",
    "plt.show()"
   ]
  },
  {
   "cell_type": "markdown",
   "id": "4ec30c1e",
   "metadata": {},
   "source": [
    "#### Hyperparameter tuning fro Adaboost"
   ]
  },
  {
   "cell_type": "code",
   "execution_count": 83,
   "id": "00a03c94",
   "metadata": {},
   "outputs": [
    {
     "name": "stdout",
     "output_type": "stream",
     "text": [
      "-------------------------\n",
      "Best parameters:  {'n_estimators': 120}\n",
      "Train set score:  0.662\n",
      "Validation set score:  0.643\n",
      "F1 score:  0.647\n",
      "-------------------------------\n"
     ]
    }
   ],
   "source": [
    "params = {\"n_estimators\":[30,50,65,90,120]}\n",
    "grid_ad = GridSearchCV(estimator=ad, param_grid=params,cv=5)\n",
    "grid_ad.fit(x_scaled_train, y_train)\n",
    "gad_pred = grid_ad.predict(x_scaled_validation)\n",
    "print(\"-------------------------\")\n",
    "print(\"Best parameters: \", grid_ad.best_params_)\n",
    "print(\"Train set score: \", grid_ad.score(x_scaled_train, y_train).round(3))\n",
    "print(\"Validation set score: \", grid_ad.score(x_scaled_validation, y_validation).round(3))\n",
    "print(\"F1 score: \", f1_score(y_validation,gad_pred).round(3))\n",
    "print(\"-------------------------------\")"
   ]
  },
  {
   "cell_type": "code",
   "execution_count": 84,
   "id": "fa350efe",
   "metadata": {},
   "outputs": [
    {
     "name": "stdout",
     "output_type": "stream",
     "text": [
      "============================================================\n",
      "              precision    recall  f1-score   support\n",
      "\n",
      "           0       0.65      0.63      0.64      1937\n",
      "           1       0.64      0.65      0.65      1938\n",
      "\n",
      "    accuracy                           0.64      3875\n",
      "   macro avg       0.64      0.64      0.64      3875\n",
      "weighted avg       0.64      0.64      0.64      3875\n",
      "\n",
      "============================================================\n",
      "\n"
     ]
    },
    {
     "data": {
      "image/png": "[encoded data removed]",
      "text/plain": [
       "<Figure size 432x288 with 2 Axes>"
      ]
     },
     "metadata": {
      "needs_background": "light"
     },
     "output_type": "display_data"
    }
   ],
   "source": [
    "print(\"============================================================\")\n",
    "# Show the classification report of the raw adaboost\n",
    "print(classification_report(y_validation,gad_pred))\n",
    "print(\"============================================================\")\n",
    "print()\n",
    "# Display the Confusion Matrix\n",
    "ConfusionMatrixDisplay.from_predictions(y_validation, gad_pred)\n",
    "# Title the confusion matrix\n",
    "plt.title(\"Confusion Matrix\",size=14)\n",
    "# label the x-axis\n",
    "plt.xlabel(\"Predicted Label\",size=12)\n",
    "# label the y axis\n",
    "plt.ylabel(\"True Label\", size=12)\n",
    "# Display the plot\n",
    "plt.show()"
   ]
  },
  {
   "cell_type": "code",
   "execution_count": null,
   "id": "c76bacad",
   "metadata": {},
   "outputs": [],
   "source": []
  },
  {
   "cell_type": "markdown",
   "id": "7272592f",
   "metadata": {},
   "source": [
    "### Choosing the best model\n",
    "[Return to the outline of tasks](#Outline-of-tasks)"
   ]
  },
  {
   "cell_type": "markdown",
   "id": "9dd2ccaa",
   "metadata": {},
   "source": [
    "#### Create a data frame for the models and their respective scores, and store it as model_score"
   ]
  },
  {
   "cell_type": "code",
   "execution_count": 85,
   "id": "db2841f6",
   "metadata": {},
   "outputs": [],
   "source": [
    "model_score = pd.DataFrame({\"Models\":[\"Decision Tree\", \"Random Forest\", \"Gradient Boosting\", \"AdaBoost\"],\n",
    "              \n",
    "              # Create train test score column with its values\n",
    "             \"Train Test Score\": [dt.score(x_scaled_train, y_train).round(3), grid_rf.score(x_scaled_train, y_train).round(3), \n",
    "                                  ggb.score(x_scaled_train,y_train).round(3),grid_ad.score(x_scaled_train, y_train).round(3)],\n",
    "              \n",
    "              # Create validation test score and its values\n",
    "             \"Validation Test Score\": [dt.score(x_scaled_validation, y_validation).round(3), grid_rf.score(x_scaled_validation, y_validation).round(3),\n",
    "                                      ggb.score(x_scaled_validation, y_validation).round(3), grid_ad.score(x_scaled_validation, y_validation).round(3)],\n",
    "             \n",
    "              # Create F1 score column with its values\n",
    "             \"F1 Score\": [f1_score(y_validation,dt_pred).round(3), f1_score(y_validation, gridrf_pred).round(3),\n",
    "                          f1_score(y_validation,ggb_pred).round(3), f1_score(y_validation, gad_pred).round(3)]})"
   ]
  },
  {
   "cell_type": "code",
   "execution_count": 86,
   "id": "a2640e25",
   "metadata": {},
   "outputs": [
    {
     "data": {
      "text/html": [
       "<div>\n",
       "<style scoped>\n",
       "    .dataframe tbody tr th:only-of-type {\n",
       "        vertical-align: middle;\n",
       "    }\n",
       "\n",
       "    .dataframe tbody tr th {\n",
       "        vertical-align: top;\n",
       "    }\n",
       "\n",
       "    .dataframe thead th {\n",
       "        text-align: right;\n",
       "    }\n",
       "</style>\n",
       "<table border=\"1\" class=\"dataframe\">\n",
       "  <thead>\n",
       "    <tr style=\"text-align: right;\">\n",
       "      <th></th>\n",
       "      <th>Models</th>\n",
       "      <th>Train Test Score</th>\n",
       "      <th>Validation Test Score</th>\n",
       "      <th>F1 Score</th>\n",
       "    </tr>\n",
       "  </thead>\n",
       "  <tbody>\n",
       "    <tr>\n",
       "      <th>0</th>\n",
       "      <td>Decision Tree</td>\n",
       "      <td>1.000</td>\n",
       "      <td>0.564</td>\n",
       "      <td>0.567</td>\n",
       "    </tr>\n",
       "    <tr>\n",
       "      <th>1</th>\n",
       "      <td>Random Forest</td>\n",
       "      <td>0.847</td>\n",
       "      <td>0.649</td>\n",
       "      <td>0.652</td>\n",
       "    </tr>\n",
       "    <tr>\n",
       "      <th>2</th>\n",
       "      <td>Gradient Boosting</td>\n",
       "      <td>0.687</td>\n",
       "      <td>0.651</td>\n",
       "      <td>0.652</td>\n",
       "    </tr>\n",
       "    <tr>\n",
       "      <th>3</th>\n",
       "      <td>AdaBoost</td>\n",
       "      <td>0.662</td>\n",
       "      <td>0.643</td>\n",
       "      <td>0.647</td>\n",
       "    </tr>\n",
       "  </tbody>\n",
       "</table>\n",
       "</div>"
      ],
      "text/plain": [
       "              Models  Train Test Score  Validation Test Score  F1 Score\n",
       "0      Decision Tree             1.000                  0.564     0.567\n",
       "1      Random Forest             0.847                  0.649     0.652\n",
       "2  Gradient Boosting             0.687                  0.651     0.652\n",
       "3           AdaBoost             0.662                  0.643     0.647"
      ]
     },
     "execution_count": 86,
     "metadata": {},
     "output_type": "execute_result"
    }
   ],
   "source": [
    "# Display the scores of each model.\n",
    "model_score"
   ]
  },
  {
   "cell_type": "markdown",
   "id": "4758b301",
   "metadata": {},
   "source": [
    "#### Create a new column named rank"
   ]
  },
  {
   "cell_type": "code",
   "execution_count": 87,
   "id": "17ce8714",
   "metadata": {},
   "outputs": [
    {
     "data": {
      "text/html": [
       "<div>\n",
       "<style scoped>\n",
       "    .dataframe tbody tr th:only-of-type {\n",
       "        vertical-align: middle;\n",
       "    }\n",
       "\n",
       "    .dataframe tbody tr th {\n",
       "        vertical-align: top;\n",
       "    }\n",
       "\n",
       "    .dataframe thead th {\n",
       "        text-align: right;\n",
       "    }\n",
       "</style>\n",
       "<table border=\"1\" class=\"dataframe\">\n",
       "  <thead>\n",
       "    <tr style=\"text-align: right;\">\n",
       "      <th></th>\n",
       "      <th>Models</th>\n",
       "      <th>Train Test Score</th>\n",
       "      <th>Validation Test Score</th>\n",
       "      <th>F1 Score</th>\n",
       "    </tr>\n",
       "    <tr>\n",
       "      <th>Rank</th>\n",
       "      <th></th>\n",
       "      <th></th>\n",
       "      <th></th>\n",
       "      <th></th>\n",
       "    </tr>\n",
       "  </thead>\n",
       "  <tbody>\n",
       "    <tr>\n",
       "      <th>1</th>\n",
       "      <td>Random Forest</td>\n",
       "      <td>0.847</td>\n",
       "      <td>0.649</td>\n",
       "      <td>0.652</td>\n",
       "    </tr>\n",
       "    <tr>\n",
       "      <th>1</th>\n",
       "      <td>Gradient Boosting</td>\n",
       "      <td>0.687</td>\n",
       "      <td>0.651</td>\n",
       "      <td>0.652</td>\n",
       "    </tr>\n",
       "    <tr>\n",
       "      <th>3</th>\n",
       "      <td>AdaBoost</td>\n",
       "      <td>0.662</td>\n",
       "      <td>0.643</td>\n",
       "      <td>0.647</td>\n",
       "    </tr>\n",
       "    <tr>\n",
       "      <th>4</th>\n",
       "      <td>Decision Tree</td>\n",
       "      <td>1.000</td>\n",
       "      <td>0.564</td>\n",
       "      <td>0.567</td>\n",
       "    </tr>\n",
       "  </tbody>\n",
       "</table>\n",
       "</div>"
      ],
      "text/plain": [
       "                 Models  Train Test Score  Validation Test Score  F1 Score\n",
       "Rank                                                                      \n",
       "1         Random Forest             0.847                  0.649     0.652\n",
       "1     Gradient Boosting             0.687                  0.651     0.652\n",
       "3              AdaBoost             0.662                  0.643     0.647\n",
       "4         Decision Tree             1.000                  0.564     0.567"
      ]
     },
     "execution_count": 87,
     "metadata": {},
     "output_type": "execute_result"
    }
   ],
   "source": [
    "# Sort the values in the F1 Score\n",
    "model_score.sort_values(by=\"F1 Score\", ascending=False, inplace=True)\n",
    "\n",
    "# Create the Rank column\n",
    "model_score[\"Rank\"] = model_score[\"F1 Score\"].rank(ascending=False).astype(\"int\")\n",
    "# Set the rank column as the index\n",
    "model_score.set_index(\"Rank\", inplace=True)\n",
    "\n",
    "# show the table\n",
    "model_score"
   ]
  },
  {
   "cell_type": "markdown",
   "id": "d4998153",
   "metadata": {},
   "source": [
    "From the model_score above, Random Forest and Gradient Boosting all had 0.652(65.2%) each. However, the validation score for Gradient boosting tops the rest with 0.651(65.1%). The train test score for gradient boosting at(0.687) is also close to the validation score, indicating the Gradient Boosting isn't likely to overfit unlike the Random Forest. For these reasons, the Gradient Boosting will be choosing as the best model."
   ]
  },
  {
   "cell_type": "code",
   "execution_count": null,
   "id": "53112b52",
   "metadata": {},
   "outputs": [],
   "source": []
  },
  {
   "cell_type": "markdown",
   "id": "1e8ee8f4",
   "metadata": {},
   "source": [
    "### Finding the Important features from the best model\n",
    "[Return to the outline of tasks](#Outline-of-tasks)"
   ]
  },
  {
   "cell_type": "code",
   "execution_count": 88,
   "id": "373ee755",
   "metadata": {},
   "outputs": [
    {
     "name": "stdout",
     "output_type": "stream",
     "text": [
      "GradientBoostingClassifier(max_depth=4, n_estimators=128, random_state=130)\n"
     ]
    }
   ],
   "source": [
    "# Show the best estimator with it tuned parameters\n",
    "print(ggb.best_estimator_)"
   ]
  },
  {
   "cell_type": "code",
   "execution_count": 89,
   "id": "82893b11",
   "metadata": {},
   "outputs": [],
   "source": [
    "# Using the best estimator, find the important features and store it as important_features\n",
    "important_features = ggb.best_estimator_.feature_importances_"
   ]
  },
  {
   "cell_type": "code",
   "execution_count": 90,
   "id": "b13e0ab4",
   "metadata": {},
   "outputs": [],
   "source": [
    "# create a dataframe for the important features and store it as essentials\n",
    "essentials = pd.DataFrame({\"Features\":x.columns, \"Importance\":important_features})\n",
    "\n",
    "# sort the essentials data by importance in descending order\n",
    "essentials.sort_values(by=\"Importance\", ascending=False,inplace=True)"
   ]
  },
  {
   "cell_type": "code",
   "execution_count": 91,
   "id": "b54367bb",
   "metadata": {},
   "outputs": [
    {
     "data": {
      "text/html": [
       "<div>\n",
       "<style scoped>\n",
       "    .dataframe tbody tr th:only-of-type {\n",
       "        vertical-align: middle;\n",
       "    }\n",
       "\n",
       "    .dataframe tbody tr th {\n",
       "        vertical-align: top;\n",
       "    }\n",
       "\n",
       "    .dataframe thead th {\n",
       "        text-align: right;\n",
       "    }\n",
       "</style>\n",
       "<table border=\"1\" class=\"dataframe\">\n",
       "  <thead>\n",
       "    <tr style=\"text-align: right;\">\n",
       "      <th></th>\n",
       "      <th>Features</th>\n",
       "      <th>Importance</th>\n",
       "    </tr>\n",
       "    <tr>\n",
       "      <th>Rank</th>\n",
       "      <th></th>\n",
       "      <th></th>\n",
       "    </tr>\n",
       "  </thead>\n",
       "  <tbody>\n",
       "    <tr>\n",
       "      <th>1</th>\n",
       "      <td>int_rate</td>\n",
       "      <td>0.525143</td>\n",
       "    </tr>\n",
       "    <tr>\n",
       "      <th>2</th>\n",
       "      <td>annual_inc</td>\n",
       "      <td>0.088734</td>\n",
       "    </tr>\n",
       "    <tr>\n",
       "      <th>3</th>\n",
       "      <td>dti</td>\n",
       "      <td>0.082017</td>\n",
       "    </tr>\n",
       "    <tr>\n",
       "      <th>4</th>\n",
       "      <td>term_ 60 months</td>\n",
       "      <td>0.049051</td>\n",
       "    </tr>\n",
       "    <tr>\n",
       "      <th>5</th>\n",
       "      <td>installment</td>\n",
       "      <td>0.040354</td>\n",
       "    </tr>\n",
       "    <tr>\n",
       "      <th>...</th>\n",
       "      <td>...</td>\n",
       "      <td>...</td>\n",
       "    </tr>\n",
       "    <tr>\n",
       "      <th>67</th>\n",
       "      <td>sub_grade_G4</td>\n",
       "      <td>0.000000</td>\n",
       "    </tr>\n",
       "    <tr>\n",
       "      <th>67</th>\n",
       "      <td>sub_grade_G2</td>\n",
       "      <td>0.000000</td>\n",
       "    </tr>\n",
       "    <tr>\n",
       "      <th>67</th>\n",
       "      <td>sub_grade_G1</td>\n",
       "      <td>0.000000</td>\n",
       "    </tr>\n",
       "    <tr>\n",
       "      <th>67</th>\n",
       "      <td>sub_grade_F3</td>\n",
       "      <td>0.000000</td>\n",
       "    </tr>\n",
       "    <tr>\n",
       "      <th>67</th>\n",
       "      <td>sub_grade_A3</td>\n",
       "      <td>0.000000</td>\n",
       "    </tr>\n",
       "  </tbody>\n",
       "</table>\n",
       "<p>70 rows × 2 columns</p>\n",
       "</div>"
      ],
      "text/plain": [
       "             Features  Importance\n",
       "Rank                             \n",
       "1            int_rate    0.525143\n",
       "2          annual_inc    0.088734\n",
       "3                 dti    0.082017\n",
       "4     term_ 60 months    0.049051\n",
       "5         installment    0.040354\n",
       "...               ...         ...\n",
       "67       sub_grade_G4    0.000000\n",
       "67       sub_grade_G2    0.000000\n",
       "67       sub_grade_G1    0.000000\n",
       "67       sub_grade_F3    0.000000\n",
       "67       sub_grade_A3    0.000000\n",
       "\n",
       "[70 rows x 2 columns]"
      ]
     },
     "execution_count": 91,
     "metadata": {},
     "output_type": "execute_result"
    }
   ],
   "source": [
    "essentials[\"Rank\"] = essentials[\"Importance\"].rank(ascending=False).astype(\"int\")\n",
    "# Set rank as index\n",
    "essentials.set_index('Rank',inplace=True)\n",
    "#Find the first 5\n",
    "essentials"
   ]
  },
  {
   "cell_type": "code",
   "execution_count": 92,
   "id": "8a77ccb7",
   "metadata": {},
   "outputs": [],
   "source": [
    "# round the importance values to 3 decimal places\n",
    "essentials[\"Importance\"] = essentials[\"Importance\"].round(3)\n",
    "# Find the first five important features the model used, and store it as important_five\n",
    "important_five = essentials.head(5)"
   ]
  },
  {
   "cell_type": "code",
   "execution_count": 93,
   "id": "2eb03924",
   "metadata": {},
   "outputs": [
    {
     "data": {
      "image/png": "[encoded data removed]",
      "text/plain": [
       "<Figure size 810x450 with 1 Axes>"
      ]
     },
     "metadata": {
      "needs_background": "light"
     },
     "output_type": "display_data"
    }
   ],
   "source": [
    "# Create a figure and increase its size\n",
    "plt.figure(figsize=(9,5),dpi=90)\n",
    "# plot the bargraph\n",
    "annot = sns.barplot(data=important_five, x=\"Importance\", y=\"Features\", palette=\"Blues_r\")\n",
    "\n",
    "# Annotat the bars\n",
    "annot.bar_label(annot.containers[0], size=11.5)\n",
    "# Title the plot\n",
    "plt.title(\"The Five Most Important Features\", size=14, pad=2)\n",
    "# Label the x-axis\n",
    "plt.xlabel(\"Values\", size=13)\n",
    "# Label the y-axis \n",
    "plt.ylabel(\"Important Features\",size=13)\n",
    "# Increase the sizes of the xticks\n",
    "plt.xticks(size=12)\n",
    "# Increase the sizes of the yticks\n",
    "plt.yticks(size=12)\n",
    "\n",
    "# Display the plot\n",
    "plt.show()"
   ]
  },
  {
   "cell_type": "markdown",
   "id": "7a0749d1",
   "metadata": {},
   "source": [
    "The above horizontal graph indicates that, interest rate is the most important feature with about (52.5%) used in building the model followed by the annual income and the dti (kindly read the full meaning of dti at the Data Overview at the beginning of the project) of the prospective client."
   ]
  },
  {
   "cell_type": "code",
   "execution_count": null,
   "id": "7cb7d87d",
   "metadata": {},
   "outputs": [],
   "source": []
  },
  {
   "cell_type": "markdown",
   "id": "01b9fdcd",
   "metadata": {},
   "source": [
    "### Make prediction using the best model\n",
    "[Return to Outline of tasks](#Outline-of-tasks)"
   ]
  },
  {
   "cell_type": "code",
   "execution_count": 96,
   "id": "5d3c7c2e",
   "metadata": {},
   "outputs": [],
   "source": [
    "# Make the prediction from the new data set (x_test)\n",
    "model_prediction = ggb.predict(x_scaled_test)"
   ]
  },
  {
   "cell_type": "code",
   "execution_count": 97,
   "id": "5a6d5940",
   "metadata": {},
   "outputs": [],
   "source": [
    "# Add the prediction to the test data set as repayment status\n",
    "x_test[\"repayment status\"] = model_prediction"
   ]
  },
  {
   "cell_type": "code",
   "execution_count": 100,
   "id": "5715c102",
   "metadata": {},
   "outputs": [],
   "source": [
    "x_test[\"repayment status\"] = x_test[\"repayment status\"].map({1:\"Fully Paid\", 0:\"Charged Off\"})"
   ]
  },
  {
   "cell_type": "code",
   "execution_count": 101,
   "id": "a8afd71d",
   "metadata": {},
   "outputs": [
    {
     "data": {
      "text/html": [
       "<div>\n",
       "<style scoped>\n",
       "    .dataframe tbody tr th:only-of-type {\n",
       "        vertical-align: middle;\n",
       "    }\n",
       "\n",
       "    .dataframe tbody tr th {\n",
       "        vertical-align: top;\n",
       "    }\n",
       "\n",
       "    .dataframe thead th {\n",
       "        text-align: right;\n",
       "    }\n",
       "</style>\n",
       "<table border=\"1\" class=\"dataframe\">\n",
       "  <thead>\n",
       "    <tr style=\"text-align: right;\">\n",
       "      <th></th>\n",
       "      <th>int_rate</th>\n",
       "      <th>installment</th>\n",
       "      <th>annual_inc</th>\n",
       "      <th>dti</th>\n",
       "      <th>earliest_cr_line</th>\n",
       "      <th>open_acc</th>\n",
       "      <th>pub_rec</th>\n",
       "      <th>revol_bal</th>\n",
       "      <th>revol_util</th>\n",
       "      <th>total_acc</th>\n",
       "      <th>...</th>\n",
       "      <th>purpose_debt_consolidation</th>\n",
       "      <th>purpose_home_improvement</th>\n",
       "      <th>purpose_major_purchase</th>\n",
       "      <th>purpose_medical</th>\n",
       "      <th>purpose_other</th>\n",
       "      <th>purpose_small_business</th>\n",
       "      <th>initial_list_status_w</th>\n",
       "      <th>application_type_INDIVIDUAL</th>\n",
       "      <th>application_type_JOINT</th>\n",
       "      <th>repayment status</th>\n",
       "    </tr>\n",
       "  </thead>\n",
       "  <tbody>\n",
       "    <tr>\n",
       "      <th>266524</th>\n",
       "      <td>20.20</td>\n",
       "      <td>798.16</td>\n",
       "      <td>210000.0</td>\n",
       "      <td>13.30</td>\n",
       "      <td>1998</td>\n",
       "      <td>18.0</td>\n",
       "      <td>1.0</td>\n",
       "      <td>18857.0</td>\n",
       "      <td>88.9</td>\n",
       "      <td>33.0</td>\n",
       "      <td>...</td>\n",
       "      <td>1</td>\n",
       "      <td>0</td>\n",
       "      <td>0</td>\n",
       "      <td>0</td>\n",
       "      <td>0</td>\n",
       "      <td>0</td>\n",
       "      <td>0</td>\n",
       "      <td>1</td>\n",
       "      <td>0</td>\n",
       "      <td>Charged Off</td>\n",
       "    </tr>\n",
       "    <tr>\n",
       "      <th>1156</th>\n",
       "      <td>11.53</td>\n",
       "      <td>494.86</td>\n",
       "      <td>100000.0</td>\n",
       "      <td>9.85</td>\n",
       "      <td>1995</td>\n",
       "      <td>7.0</td>\n",
       "      <td>0.0</td>\n",
       "      <td>10325.0</td>\n",
       "      <td>84.6</td>\n",
       "      <td>31.0</td>\n",
       "      <td>...</td>\n",
       "      <td>1</td>\n",
       "      <td>0</td>\n",
       "      <td>0</td>\n",
       "      <td>0</td>\n",
       "      <td>0</td>\n",
       "      <td>0</td>\n",
       "      <td>1</td>\n",
       "      <td>1</td>\n",
       "      <td>0</td>\n",
       "      <td>Fully Paid</td>\n",
       "    </tr>\n",
       "    <tr>\n",
       "      <th>347948</th>\n",
       "      <td>10.99</td>\n",
       "      <td>333.89</td>\n",
       "      <td>105000.0</td>\n",
       "      <td>15.57</td>\n",
       "      <td>2000</td>\n",
       "      <td>8.0</td>\n",
       "      <td>0.0</td>\n",
       "      <td>42659.0</td>\n",
       "      <td>91.2</td>\n",
       "      <td>27.0</td>\n",
       "      <td>...</td>\n",
       "      <td>1</td>\n",
       "      <td>0</td>\n",
       "      <td>0</td>\n",
       "      <td>0</td>\n",
       "      <td>0</td>\n",
       "      <td>0</td>\n",
       "      <td>1</td>\n",
       "      <td>1</td>\n",
       "      <td>0</td>\n",
       "      <td>Fully Paid</td>\n",
       "    </tr>\n",
       "    <tr>\n",
       "      <th>223569</th>\n",
       "      <td>13.99</td>\n",
       "      <td>252.88</td>\n",
       "      <td>86000.0</td>\n",
       "      <td>13.60</td>\n",
       "      <td>1999</td>\n",
       "      <td>15.0</td>\n",
       "      <td>0.0</td>\n",
       "      <td>1839.0</td>\n",
       "      <td>18.2</td>\n",
       "      <td>34.0</td>\n",
       "      <td>...</td>\n",
       "      <td>1</td>\n",
       "      <td>0</td>\n",
       "      <td>0</td>\n",
       "      <td>0</td>\n",
       "      <td>0</td>\n",
       "      <td>0</td>\n",
       "      <td>0</td>\n",
       "      <td>1</td>\n",
       "      <td>0</td>\n",
       "      <td>Fully Paid</td>\n",
       "    </tr>\n",
       "    <tr>\n",
       "      <th>218416</th>\n",
       "      <td>13.33</td>\n",
       "      <td>203.12</td>\n",
       "      <td>36000.0</td>\n",
       "      <td>26.69</td>\n",
       "      <td>1991</td>\n",
       "      <td>16.0</td>\n",
       "      <td>0.0</td>\n",
       "      <td>15193.0</td>\n",
       "      <td>29.0</td>\n",
       "      <td>51.0</td>\n",
       "      <td>...</td>\n",
       "      <td>0</td>\n",
       "      <td>0</td>\n",
       "      <td>0</td>\n",
       "      <td>0</td>\n",
       "      <td>1</td>\n",
       "      <td>0</td>\n",
       "      <td>1</td>\n",
       "      <td>1</td>\n",
       "      <td>0</td>\n",
       "      <td>Charged Off</td>\n",
       "    </tr>\n",
       "    <tr>\n",
       "      <th>...</th>\n",
       "      <td>...</td>\n",
       "      <td>...</td>\n",
       "      <td>...</td>\n",
       "      <td>...</td>\n",
       "      <td>...</td>\n",
       "      <td>...</td>\n",
       "      <td>...</td>\n",
       "      <td>...</td>\n",
       "      <td>...</td>\n",
       "      <td>...</td>\n",
       "      <td>...</td>\n",
       "      <td>...</td>\n",
       "      <td>...</td>\n",
       "      <td>...</td>\n",
       "      <td>...</td>\n",
       "      <td>...</td>\n",
       "      <td>...</td>\n",
       "      <td>...</td>\n",
       "      <td>...</td>\n",
       "      <td>...</td>\n",
       "      <td>...</td>\n",
       "    </tr>\n",
       "    <tr>\n",
       "      <th>377474</th>\n",
       "      <td>15.61</td>\n",
       "      <td>349.65</td>\n",
       "      <td>54000.0</td>\n",
       "      <td>19.49</td>\n",
       "      <td>1999</td>\n",
       "      <td>10.0</td>\n",
       "      <td>0.0</td>\n",
       "      <td>9796.0</td>\n",
       "      <td>85.2</td>\n",
       "      <td>16.0</td>\n",
       "      <td>...</td>\n",
       "      <td>1</td>\n",
       "      <td>0</td>\n",
       "      <td>0</td>\n",
       "      <td>0</td>\n",
       "      <td>0</td>\n",
       "      <td>0</td>\n",
       "      <td>0</td>\n",
       "      <td>1</td>\n",
       "      <td>0</td>\n",
       "      <td>Charged Off</td>\n",
       "    </tr>\n",
       "    <tr>\n",
       "      <th>76680</th>\n",
       "      <td>11.53</td>\n",
       "      <td>263.93</td>\n",
       "      <td>50000.0</td>\n",
       "      <td>9.63</td>\n",
       "      <td>2002</td>\n",
       "      <td>8.0</td>\n",
       "      <td>0.0</td>\n",
       "      <td>12809.0</td>\n",
       "      <td>59.9</td>\n",
       "      <td>19.0</td>\n",
       "      <td>...</td>\n",
       "      <td>1</td>\n",
       "      <td>0</td>\n",
       "      <td>0</td>\n",
       "      <td>0</td>\n",
       "      <td>0</td>\n",
       "      <td>0</td>\n",
       "      <td>1</td>\n",
       "      <td>1</td>\n",
       "      <td>0</td>\n",
       "      <td>Fully Paid</td>\n",
       "    </tr>\n",
       "    <tr>\n",
       "      <th>238353</th>\n",
       "      <td>22.99</td>\n",
       "      <td>634.16</td>\n",
       "      <td>131000.0</td>\n",
       "      <td>22.91</td>\n",
       "      <td>1973</td>\n",
       "      <td>13.0</td>\n",
       "      <td>0.0</td>\n",
       "      <td>26464.0</td>\n",
       "      <td>91.9</td>\n",
       "      <td>28.0</td>\n",
       "      <td>...</td>\n",
       "      <td>0</td>\n",
       "      <td>0</td>\n",
       "      <td>0</td>\n",
       "      <td>0</td>\n",
       "      <td>0</td>\n",
       "      <td>0</td>\n",
       "      <td>0</td>\n",
       "      <td>1</td>\n",
       "      <td>0</td>\n",
       "      <td>Charged Off</td>\n",
       "    </tr>\n",
       "    <tr>\n",
       "      <th>349978</th>\n",
       "      <td>24.99</td>\n",
       "      <td>469.53</td>\n",
       "      <td>68000.0</td>\n",
       "      <td>7.47</td>\n",
       "      <td>1995</td>\n",
       "      <td>10.0</td>\n",
       "      <td>1.0</td>\n",
       "      <td>8026.0</td>\n",
       "      <td>50.8</td>\n",
       "      <td>18.0</td>\n",
       "      <td>...</td>\n",
       "      <td>1</td>\n",
       "      <td>0</td>\n",
       "      <td>0</td>\n",
       "      <td>0</td>\n",
       "      <td>0</td>\n",
       "      <td>0</td>\n",
       "      <td>1</td>\n",
       "      <td>1</td>\n",
       "      <td>0</td>\n",
       "      <td>Charged Off</td>\n",
       "    </tr>\n",
       "    <tr>\n",
       "      <th>117663</th>\n",
       "      <td>21.98</td>\n",
       "      <td>966.27</td>\n",
       "      <td>160000.0</td>\n",
       "      <td>13.44</td>\n",
       "      <td>1995</td>\n",
       "      <td>11.0</td>\n",
       "      <td>0.0</td>\n",
       "      <td>6053.0</td>\n",
       "      <td>27.0</td>\n",
       "      <td>43.0</td>\n",
       "      <td>...</td>\n",
       "      <td>0</td>\n",
       "      <td>0</td>\n",
       "      <td>0</td>\n",
       "      <td>0</td>\n",
       "      <td>1</td>\n",
       "      <td>0</td>\n",
       "      <td>1</td>\n",
       "      <td>1</td>\n",
       "      <td>0</td>\n",
       "      <td>Charged Off</td>\n",
       "    </tr>\n",
       "  </tbody>\n",
       "</table>\n",
       "<p>3876 rows × 71 columns</p>\n",
       "</div>"
      ],
      "text/plain": [
       "        int_rate  installment  annual_inc    dti  earliest_cr_line  open_acc  \\\n",
       "266524     20.20       798.16    210000.0  13.30              1998      18.0   \n",
       "1156       11.53       494.86    100000.0   9.85              1995       7.0   \n",
       "347948     10.99       333.89    105000.0  15.57              2000       8.0   \n",
       "223569     13.99       252.88     86000.0  13.60              1999      15.0   \n",
       "218416     13.33       203.12     36000.0  26.69              1991      16.0   \n",
       "...          ...          ...         ...    ...               ...       ...   \n",
       "377474     15.61       349.65     54000.0  19.49              1999      10.0   \n",
       "76680      11.53       263.93     50000.0   9.63              2002       8.0   \n",
       "238353     22.99       634.16    131000.0  22.91              1973      13.0   \n",
       "349978     24.99       469.53     68000.0   7.47              1995      10.0   \n",
       "117663     21.98       966.27    160000.0  13.44              1995      11.0   \n",
       "\n",
       "        pub_rec  revol_bal  revol_util  total_acc  ...  \\\n",
       "266524      1.0    18857.0        88.9       33.0  ...   \n",
       "1156        0.0    10325.0        84.6       31.0  ...   \n",
       "347948      0.0    42659.0        91.2       27.0  ...   \n",
       "223569      0.0     1839.0        18.2       34.0  ...   \n",
       "218416      0.0    15193.0        29.0       51.0  ...   \n",
       "...         ...        ...         ...        ...  ...   \n",
       "377474      0.0     9796.0        85.2       16.0  ...   \n",
       "76680       0.0    12809.0        59.9       19.0  ...   \n",
       "238353      0.0    26464.0        91.9       28.0  ...   \n",
       "349978      1.0     8026.0        50.8       18.0  ...   \n",
       "117663      0.0     6053.0        27.0       43.0  ...   \n",
       "\n",
       "        purpose_debt_consolidation  purpose_home_improvement  \\\n",
       "266524                           1                         0   \n",
       "1156                             1                         0   \n",
       "347948                           1                         0   \n",
       "223569                           1                         0   \n",
       "218416                           0                         0   \n",
       "...                            ...                       ...   \n",
       "377474                           1                         0   \n",
       "76680                            1                         0   \n",
       "238353                           0                         0   \n",
       "349978                           1                         0   \n",
       "117663                           0                         0   \n",
       "\n",
       "        purpose_major_purchase  purpose_medical  purpose_other  \\\n",
       "266524                       0                0              0   \n",
       "1156                         0                0              0   \n",
       "347948                       0                0              0   \n",
       "223569                       0                0              0   \n",
       "218416                       0                0              1   \n",
       "...                        ...              ...            ...   \n",
       "377474                       0                0              0   \n",
       "76680                        0                0              0   \n",
       "238353                       0                0              0   \n",
       "349978                       0                0              0   \n",
       "117663                       0                0              1   \n",
       "\n",
       "        purpose_small_business  initial_list_status_w  \\\n",
       "266524                       0                      0   \n",
       "1156                         0                      1   \n",
       "347948                       0                      1   \n",
       "223569                       0                      0   \n",
       "218416                       0                      1   \n",
       "...                        ...                    ...   \n",
       "377474                       0                      0   \n",
       "76680                        0                      1   \n",
       "238353                       0                      0   \n",
       "349978                       0                      1   \n",
       "117663                       0                      1   \n",
       "\n",
       "        application_type_INDIVIDUAL  application_type_JOINT  repayment status  \n",
       "266524                            1                       0       Charged Off  \n",
       "1156                              1                       0        Fully Paid  \n",
       "347948                            1                       0        Fully Paid  \n",
       "223569                            1                       0        Fully Paid  \n",
       "218416                            1                       0       Charged Off  \n",
       "...                             ...                     ...               ...  \n",
       "377474                            1                       0       Charged Off  \n",
       "76680                             1                       0        Fully Paid  \n",
       "238353                            1                       0       Charged Off  \n",
       "349978                            1                       0       Charged Off  \n",
       "117663                            1                       0       Charged Off  \n",
       "\n",
       "[3876 rows x 71 columns]"
      ]
     },
     "execution_count": 101,
     "metadata": {},
     "output_type": "execute_result"
    }
   ],
   "source": [
    "x_test"
   ]
  },
  {
   "cell_type": "markdown",
   "id": "d9135c86",
   "metadata": {},
   "source": [
    "Thus, the model predicts that the client with index 266524 will charge off whiles client with index 1156 will fully pay the loan."
   ]
  },
  {
   "cell_type": "code",
   "execution_count": null,
   "id": "15563326",
   "metadata": {},
   "outputs": [],
   "source": []
  },
  {
   "cell_type": "markdown",
   "id": "cc4738e5",
   "metadata": {},
   "source": [
    "### Summary\n",
    "[Return to outline of task](#Outline-of-tasks)"
   ]
  },
  {
   "cell_type": "markdown",
   "id": "d0b4cf30",
   "metadata": {},
   "source": [
    "The projects began with balancing of the imported data so that the number of those who fully paid their debts was equal to the number of those who charged off. Exploratory Data Analysis, feature selection and data cleaning was carried out to get the data ready for model(s) development. Since the data demanded a computer with more computing power, only 25% of the balanced data was used for developing the model.  \n",
    "\n",
    "The data was then grouped into features and label represent by x and y respectively. Afterwards, the features and labels were grouped into train, validation and test data sets. \n",
    "\n",
    "Since the management of the company also demanded the important features to consider in granting a loan, the Tree based algorithms were used.\n",
    "The Decision Tree, Random Forest, Gradient Boosting and Adaptive Boosting classifiers were used. In the end, the best model chosen was the Gradient Boosting (after hyperparamter tuning). \n",
    "\n",
    "The five most important features to consider in granting a loan according to the model were; interest rate, annual income and dti of the prospective client, if the term of repayment is 60 months, and the installment amount to be paid."
   ]
  },
  {
   "cell_type": "markdown",
   "id": "8805507e",
   "metadata": {},
   "source": [
    "### Thank you."
   ]
  },
  {
   "cell_type": "code",
   "execution_count": null,
   "id": "875cb413",
   "metadata": {},
   "outputs": [],
   "source": []
  }
 ],
 "metadata": {
  "kernelspec": {
   "display_name": "Python 3 (ipykernel)",
   "language": "python",
   "name": "python3"
  },
  "language_info": {
   "codemirror_mode": {
    "name": "ipython",
    "version": 3
   },
   "file_extension": ".py",
   "mimetype": "text/x-python",
   "name": "python",
   "nbconvert_exporter": "python",
   "pygments_lexer": "ipython3",
   "version": "3.10.4"
  }
 },
 "nbformat": 4,
 "nbformat_minor": 5
}
